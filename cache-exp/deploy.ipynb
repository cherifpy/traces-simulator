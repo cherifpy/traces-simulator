{
 "cells": [
  {
   "cell_type": "code",
   "execution_count": 1,
   "metadata": {},
   "outputs": [
    {
     "name": "stderr",
     "output_type": "stream",
     "text": [
      "[WARNING]: failed to patch stdout/stderr for fork-safety: 'OutStream' object\n",
      "has no attribute 'buffer'\n",
      "[WARNING]: failed to reconfigure stdout/stderr with the replace error handler:\n",
      "'OutStream' object has no attribute 'reconfigure'\n",
      "/Users/cherif/Documents/Traveaux/traces-simulator/venv/lib/python3.12/site-packages/paramiko/pkey.py:100: CryptographyDeprecationWarning: TripleDES has been moved to cryptography.hazmat.decrepit.ciphers.algorithms.TripleDES and will be removed from this module in 48.0.0.\n",
      "  \"cipher\": algorithms.TripleDES,\n",
      "/Users/cherif/Documents/Traveaux/traces-simulator/venv/lib/python3.12/site-packages/paramiko/transport.py:259: CryptographyDeprecationWarning: TripleDES has been moved to cryptography.hazmat.decrepit.ciphers.algorithms.TripleDES and will be removed from this module in 48.0.0.\n",
      "  \"class\": algorithms.TripleDES,\n"
     ]
    }
   ],
   "source": [
    "import subprocess\n",
    "import time\n",
    "from configurations.configuration import Configuration\n",
    "from communication.send_data import sendObject\n",
    "from exp.params import (\n",
    "    REP_PORT,\n",
    "    PATH_TO_TASKS, \n",
    "    PATH_TO_CONFIG_FILE, \n",
    "    SERVER_REPLICA_MANAGER_PORT,\n",
    "    MEMCACHED_LISTENING_PORT,\n",
    ")"
   ]
  },
  {
   "cell_type": "code",
   "execution_count": 2,
   "metadata": {},
   "outputs": [],
   "source": [
    "def run_command(command):\n",
    "    \n",
    "    result = subprocess.run(command.split(), capture_output=True, text=True)\n",
    "    print(result)\n",
    "\n",
    "def InfosToSend(id_peer:int,graphe_info,ip_address, rep_port, cache_size):\n",
    "    data = {}\n",
    "    data[\"CACHE_SIZE\"] = cache_size*1024*1024\n",
    "    data[\"infos\"] = []\n",
    "    data[\"SITE_ID\"] = id_peer\n",
    "    data[\"REP_PORT\"] = rep_port + id_peer\n",
    "    data[\"IP_ADDRESS\"] = str(ip_address[id_peer])\n",
    "    data[\"MANAGER_IP\"] = str(ip_address[-1])\n",
    "    \n",
    "    for i in range(len(graphe_info)):\n",
    "        if graphe_info[id_peer,i] > 0:\n",
    "            peer = {\n",
    "                'latency' : graphe_info[id_peer,i],\n",
    "                \"id\": i,\n",
    "                \"ip\" : ip_address[i], \n",
    "                \"rep_port\" : rep_port+i,\n",
    "            } \n",
    "\n",
    "            data[\"infos\"].append(peer)\n",
    "    return data\n",
    "\n",
    "def SendInfoToManager(id_peer, config,ips_address, rep_port):\n",
    "    data = {}\n",
    "    data[\"IP_ADDRESS\"] = str(ips_address[id_peer])\n",
    "    data['graphe_infos'] = config\n",
    "    data[\"IPs_ADDRESS\"] = ips_address\n",
    "    data[\"infos\"] = {}\n",
    "    \n",
    "    for i in range(len(config)):\n",
    "        if config[id_peer,i] > 0:\n",
    "            peer = {\n",
    "                'latency' : config[id_peer,i],\n",
    "                \"id\": i,\n",
    "                \"node_ip\" : ips_address[i], \n",
    "                \"node_port\" : rep_port+i,\n",
    "            } \n",
    "            data[\"infos\"][i] = peer\n",
    "    return data"
   ]
  },
  {
   "cell_type": "code",
   "execution_count": 3,
   "metadata": {},
   "outputs": [
    {
     "data": {
      "text/html": [
       "<pre style=\"white-space:pre;overflow-x:auto;line-height:normal;font-family:Menlo,'DejaVu Sans Mono',consolas,'Courier New',monospace\">\n",
       "  _____        ___  ____  _ _ _\n",
       " | ____|_ __  / _ \\/ ___|| (_) |__\n",
       " |  _| | '_ \\| | | \\___ \\| | | '_ \\\n",
       " | |___| | | | |_| |___) | | | |_) |\n",
       " |_____|_| |_|\\___/|____/|_|_|_.__/  9.3.0\n",
       "\n",
       "\n",
       "\n",
       "</pre>\n"
      ],
      "text/plain": [
       "\n",
       "  _____        ___  ____  _ _ _\n",
       " | ____|_ __  / _ \\/ ___|| (_) |__\n",
       " |  _| | '_ \\| | | \\___ \\| | | '_ \\\n",
       " | |___| | | | |_| |___) | | | |_) |\n",
       " |_____|_| |_|\\___/|____/|_|_|_.__/  9.3.0\n",
       "\n",
       "\n",
       "\n"
      ]
     },
     "metadata": {},
     "output_type": "display_data"
    },
    {
     "data": {
      "text/html": [
       "<pre style=\"white-space:pre;overflow-x:auto;line-height:normal;font-family:Menlo,'DejaVu Sans Mono',consolas,'Courier New',monospace\">\n",
       "<span style=\"color: #808000; text-decoration-color: #808000; font-weight: bold\"> • </span>Documentation: <a href=\"https://discovery.gitlabpages.inria.fr/enoslib/\" target=\"_blank\"><span style=\"color: #0000ff; text-decoration-color: #0000ff\">https://discovery.gitlabpages.inria.fr/enoslib/</span></a>                            \n",
       "<span style=\"color: #808000; text-decoration-color: #808000; font-weight: bold\"> • </span>Source: <a href=\"https://gitlab.inria.fr/discovery/enoslib\" target=\"_blank\"><span style=\"color: #0000ff; text-decoration-color: #0000ff\">https://gitlab.inria.fr/discovery/enoslib</span></a>                                         \n",
       "<span style=\"color: #808000; text-decoration-color: #808000; font-weight: bold\"> • </span>Chat: <a href=\"https://framateam.org/enoslib\" target=\"_blank\"><span style=\"color: #0000ff; text-decoration-color: #0000ff\">https://framateam.org/enoslib</span></a>                                                       \n",
       "</pre>\n"
      ],
      "text/plain": [
       "\n",
       "\u001b[1;33m • \u001b[0mDocumentation: \u001b]8;id=588229;https://discovery.gitlabpages.inria.fr/enoslib/\u001b\\\u001b[94mhttps://discovery.gitlabpages.inria.fr/enoslib/\u001b[0m\u001b]8;;\u001b\\                            \n",
       "\u001b[1;33m • \u001b[0mSource: \u001b]8;id=72253;https://gitlab.inria.fr/discovery/enoslib\u001b\\\u001b[94mhttps://gitlab.inria.fr/discovery/enoslib\u001b[0m\u001b]8;;\u001b\\                                         \n",
       "\u001b[1;33m • \u001b[0mChat: \u001b]8;id=84342;https://framateam.org/enoslib\u001b\\\u001b[94mhttps://framateam.org/enoslib\u001b[0m\u001b]8;;\u001b\\                                                       \n"
      ]
     },
     "metadata": {},
     "output_type": "display_data"
    },
    {
     "data": {
      "text/html": [
       "<pre style=\"white-space:pre;overflow-x:auto;line-height:normal;font-family:Menlo,'DejaVu Sans Mono',consolas,'Courier New',monospace\"><span style=\"font-style: italic\">                         Dependency check                         </span>\n",
       "┏━━━━━━━━━━━━━━━┳━━━━━━━━━━━━━━━┳━━━━━━━━━━━━━━━━━━━━━━━━━━━━━━━━┓\n",
       "┃<span style=\"font-weight: bold\"> Provider      </span>┃<span style=\"font-weight: bold\">    Status     </span>┃<span style=\"font-weight: bold\"> Hint                           </span>┃\n",
       "┡━━━━━━━━━━━━━━━╇━━━━━━━━━━━━━━━╇━━━━━━━━━━━━━━━━━━━━━━━━━━━━━━━━┩\n",
       "│ Chameleon     │ <span style=\"color: #000080; text-decoration-color: #000080\">NOT INSTALLED</span> │ pip install enoslib[chameleon] │\n",
       "│ ChameleonKVM  │ <span style=\"color: #000080; text-decoration-color: #000080\">NOT INSTALLED</span> │ pip install enoslib[chameleon] │\n",
       "│ ChameleonEdge │ <span style=\"color: #000080; text-decoration-color: #000080\">NOT INSTALLED</span> │ pip install enoslib[chameleon] │\n",
       "│ Distem        │ <span style=\"color: #000080; text-decoration-color: #000080\">NOT INSTALLED</span> │ pip install enoslib[distem]    │\n",
       "│ IOT-lab       │ <span style=\"color: #000080; text-decoration-color: #000080\">NOT INSTALLED</span> │ pip install enoslib[iotlab]    │\n",
       "│ Grid'5000     │   <span style=\"color: #008000; text-decoration-color: #008000\">INSTALLED</span>   │                                │\n",
       "│ Openstack     │ <span style=\"color: #000080; text-decoration-color: #000080\">NOT INSTALLED</span> │ pip install enoslib[chameleon] │\n",
       "│ Vagrant       │ <span style=\"color: #000080; text-decoration-color: #000080\">NOT INSTALLED</span> │ pip install enoslib[vagrant]   │\n",
       "│ VMonG5k       │   <span style=\"color: #008000; text-decoration-color: #008000\">INSTALLED</span>   │                                │\n",
       "└───────────────┴───────────────┴────────────────────────────────┘\n",
       "</pre>\n"
      ],
      "text/plain": [
       "\u001b[3m                         Dependency check                         \u001b[0m\n",
       "┏━━━━━━━━━━━━━━━┳━━━━━━━━━━━━━━━┳━━━━━━━━━━━━━━━━━━━━━━━━━━━━━━━━┓\n",
       "┃\u001b[1m \u001b[0m\u001b[1mProvider     \u001b[0m\u001b[1m \u001b[0m┃\u001b[1m \u001b[0m\u001b[1m   Status    \u001b[0m\u001b[1m \u001b[0m┃\u001b[1m \u001b[0m\u001b[1mHint                          \u001b[0m\u001b[1m \u001b[0m┃\n",
       "┡━━━━━━━━━━━━━━━╇━━━━━━━━━━━━━━━╇━━━━━━━━━━━━━━━━━━━━━━━━━━━━━━━━┩\n",
       "│ Chameleon     │ \u001b[34mNOT INSTALLED\u001b[0m │ pip install enoslib[chameleon] │\n",
       "│ ChameleonKVM  │ \u001b[34mNOT INSTALLED\u001b[0m │ pip install enoslib[chameleon] │\n",
       "│ ChameleonEdge │ \u001b[34mNOT INSTALLED\u001b[0m │ pip install enoslib[chameleon] │\n",
       "│ Distem        │ \u001b[34mNOT INSTALLED\u001b[0m │ pip install enoslib[distem]    │\n",
       "│ IOT-lab       │ \u001b[34mNOT INSTALLED\u001b[0m │ pip install enoslib[iotlab]    │\n",
       "│ Grid'5000     │   \u001b[32mINSTALLED\u001b[0m   │                                │\n",
       "│ Openstack     │ \u001b[34mNOT INSTALLED\u001b[0m │ pip install enoslib[chameleon] │\n",
       "│ Vagrant       │ \u001b[34mNOT INSTALLED\u001b[0m │ pip install enoslib[vagrant]   │\n",
       "│ VMonG5k       │   \u001b[32mINSTALLED\u001b[0m   │                                │\n",
       "└───────────────┴───────────────┴────────────────────────────────┘\n"
      ]
     },
     "metadata": {},
     "output_type": "display_data"
    },
    {
     "data": {
      "text/html": [
       "<pre style=\"white-space:pre;overflow-x:auto;line-height:normal;font-family:Menlo,'DejaVu Sans Mono',consolas,'Courier New',monospace\"><span style=\"font-style: italic\">                                Connectivity check                                 </span>\n",
       "┏━━━━━━━━━━━┳━━━━━━━━━━━━━━━━━━━━━┳━━━━━━━━━━━━━━┳━━━━━━━━━━━━━━━━━━━━━━━━━━━━━━━━┓\n",
       "┃<span style=\"font-weight: bold\"> Provider  </span>┃<span style=\"font-weight: bold\"> Key                 </span>┃<span style=\"font-weight: bold\"> Connectivity </span>┃<span style=\"font-weight: bold\"> Hint                           </span>┃\n",
       "┡━━━━━━━━━━━╇━━━━━━━━━━━━━━━━━━━━━╇━━━━━━━━━━━━━━╇━━━━━━━━━━━━━━━━━━━━━━━━━━━━━━━━┩\n",
       "│ Grid'5000 │ ssh:access          │      ✅      │ Connection to access.grid5000… │\n",
       "│ Grid'5000 │ ssh:access:frontend │      ✅      │ Connection Host(rennes.grid50… │\n",
       "│ Grid'5000 │ api:access          │      ✅      │                                │\n",
       "│ VMonG5k   │ access              │      ❔      │ Check G5k status               │\n",
       "└───────────┴─────────────────────┴──────────────┴────────────────────────────────┘\n",
       "</pre>\n"
      ],
      "text/plain": [
       "\u001b[3m                                Connectivity check                                 \u001b[0m\n",
       "┏━━━━━━━━━━━┳━━━━━━━━━━━━━━━━━━━━━┳━━━━━━━━━━━━━━┳━━━━━━━━━━━━━━━━━━━━━━━━━━━━━━━━┓\n",
       "┃\u001b[1m \u001b[0m\u001b[1mProvider \u001b[0m\u001b[1m \u001b[0m┃\u001b[1m \u001b[0m\u001b[1mKey                \u001b[0m\u001b[1m \u001b[0m┃\u001b[1m \u001b[0m\u001b[1mConnectivity\u001b[0m\u001b[1m \u001b[0m┃\u001b[1m \u001b[0m\u001b[1mHint                          \u001b[0m\u001b[1m \u001b[0m┃\n",
       "┡━━━━━━━━━━━╇━━━━━━━━━━━━━━━━━━━━━╇━━━━━━━━━━━━━━╇━━━━━━━━━━━━━━━━━━━━━━━━━━━━━━━━┩\n",
       "│ Grid'5000 │ ssh:access          │      ✅      │ Connection to access.grid5000… │\n",
       "│ Grid'5000 │ ssh:access:frontend │      ✅      │ Connection Host(rennes.grid50… │\n",
       "│ Grid'5000 │ api:access          │      ✅      │                                │\n",
       "│ VMonG5k   │ access              │      ❔      │ Check G5k status               │\n",
       "└───────────┴─────────────────────┴──────────────┴────────────────────────────────┘\n"
      ]
     },
     "metadata": {},
     "output_type": "display_data"
    },
    {
     "data": {
      "text/html": [
       "<pre style=\"white-space:pre;overflow-x:auto;line-height:normal;font-family:Menlo,'DejaVu Sans Mono',consolas,'Courier New',monospace\"><span style=\"color: #000080; text-decoration-color: #000080\">INFO    </span> <span style=\"font-weight: bold\">[</span>G5k<span style=\"font-weight: bold\">]</span> Submitting <span style=\"font-weight: bold\">{</span><span style=\"color: #008000; text-decoration-color: #008000\">'name'</span>: <span style=\"color: #008000; text-decoration-color: #008000\">'EnOSlib'</span>, <span style=\"color: #008000; text-decoration-color: #008000\">'types'</span>: <span style=\"font-weight: bold\">[]</span>, <span style=\"color: #008000; text-decoration-color: #008000\">'resources'</span>:  <a href=\"file:///Users/cherif/Documents/Traveaux/traces-simulator/venv/lib/python3.12/site-packages/enoslib/infra/enos_g5k/g5k_api_utils.py\" target=\"_blank\"><span style=\"color: #7f7f7f; text-decoration-color: #7f7f7f\">g5k_api_utils.py</span></a><span style=\"color: #7f7f7f; text-decoration-color: #7f7f7f\">:</span><a href=\"file:///Users/cherif/Documents/Traveaux/traces-simulator/venv/lib/python3.12/site-packages/enoslib/infra/enos_g5k/g5k_api_utils.py#305\" target=\"_blank\"><span style=\"color: #7f7f7f; text-decoration-color: #7f7f7f\">305</span></a>\n",
       "         <span style=\"color: #008000; text-decoration-color: #008000\">\"{cluster='paravance'}/nodes=1+{cluster='paravance'}/nodes=1+{c</span> <span style=\"color: #7f7f7f; text-decoration-color: #7f7f7f\">                    </span>\n",
       "         <span style=\"color: #008000; text-decoration-color: #008000\">luster='paravance'}/nodes=1+{cluster='paravance'}/nodes=1+{clus</span> <span style=\"color: #7f7f7f; text-decoration-color: #7f7f7f\">                    </span>\n",
       "         <span style=\"color: #008000; text-decoration-color: #008000\">ter='paravance'}/nodes=1+{cluster='paravance'}/nodes=1,walltime</span> <span style=\"color: #7f7f7f; text-decoration-color: #7f7f7f\">                    </span>\n",
       "         <span style=\"color: #008000; text-decoration-color: #008000\">=00:40:00\"</span>, <span style=\"color: #008000; text-decoration-color: #008000\">'command'</span>: <span style=\"color: #008000; text-decoration-color: #008000\">'sleep 31536000'</span>, <span style=\"color: #008000; text-decoration-color: #008000\">'queue'</span>: <span style=\"color: #008000; text-decoration-color: #008000\">'default'</span><span style=\"font-weight: bold\">}</span> on <span style=\"color: #7f7f7f; text-decoration-color: #7f7f7f\">                    </span>\n",
       "         rennes                                                          <span style=\"color: #7f7f7f; text-decoration-color: #7f7f7f\">                    </span>\n",
       "</pre>\n"
      ],
      "text/plain": [
       "\u001b[34mINFO    \u001b[0m \u001b[1m[\u001b[0mG5k\u001b[1m]\u001b[0m Submitting \u001b[1m{\u001b[0m\u001b[32m'name'\u001b[0m: \u001b[32m'EnOSlib'\u001b[0m, \u001b[32m'types'\u001b[0m: \u001b[1m[\u001b[0m\u001b[1m]\u001b[0m, \u001b[32m'resources'\u001b[0m:  \u001b]8;id=754869;file:///Users/cherif/Documents/Traveaux/traces-simulator/venv/lib/python3.12/site-packages/enoslib/infra/enos_g5k/g5k_api_utils.py\u001b\\\u001b[2mg5k_api_utils.py\u001b[0m\u001b]8;;\u001b\\\u001b[2m:\u001b[0m\u001b]8;id=226705;file:///Users/cherif/Documents/Traveaux/traces-simulator/venv/lib/python3.12/site-packages/enoslib/infra/enos_g5k/g5k_api_utils.py#305\u001b\\\u001b[2m305\u001b[0m\u001b]8;;\u001b\\\n",
       "         \u001b[32m\"\u001b[0m\u001b[32m{\u001b[0m\u001b[32mcluster\u001b[0m\u001b[32m='paravance'\u001b[0m\u001b[32m}\u001b[0m\u001b[32m/\u001b[0m\u001b[32mnodes\u001b[0m\u001b[32m=\u001b[0m\u001b[32m1\u001b[0m\u001b[32m+\u001b[0m\u001b[32m{\u001b[0m\u001b[32mcluster\u001b[0m\u001b[32m='paravance'\u001b[0m\u001b[32m}\u001b[0m\u001b[32m/\u001b[0m\u001b[32mnodes\u001b[0m\u001b[32m=\u001b[0m\u001b[32m1\u001b[0m\u001b[32m+\u001b[0m\u001b[32m{\u001b[0m\u001b[32mc\u001b[0m \u001b[2m                    \u001b[0m\n",
       "         \u001b[32mluster\u001b[0m\u001b[32m='paravance'\u001b[0m\u001b[32m}\u001b[0m\u001b[32m/\u001b[0m\u001b[32mnodes\u001b[0m\u001b[32m=\u001b[0m\u001b[32m1\u001b[0m\u001b[32m+\u001b[0m\u001b[32m{\u001b[0m\u001b[32mcluster\u001b[0m\u001b[32m='paravance'\u001b[0m\u001b[32m}\u001b[0m\u001b[32m/\u001b[0m\u001b[32mnodes\u001b[0m\u001b[32m=\u001b[0m\u001b[32m1\u001b[0m\u001b[32m+\u001b[0m\u001b[32m{\u001b[0m\u001b[32mclus\u001b[0m \u001b[2m                    \u001b[0m\n",
       "         \u001b[32mter\u001b[0m\u001b[32m='paravance'\u001b[0m\u001b[32m}\u001b[0m\u001b[32m/\u001b[0m\u001b[32mnodes\u001b[0m\u001b[32m=\u001b[0m\u001b[32m1\u001b[0m\u001b[32m+\u001b[0m\u001b[32m{\u001b[0m\u001b[32mcluster\u001b[0m\u001b[32m='paravance'\u001b[0m\u001b[32m}\u001b[0m\u001b[32m/\u001b[0m\u001b[32mnodes\u001b[0m\u001b[32m=\u001b[0m\u001b[32m1\u001b[0m\u001b[32m,\u001b[0m\u001b[32mwalltime\u001b[0m \u001b[2m                    \u001b[0m\n",
       "         \u001b[32m=\u001b[0m\u001b[32m00\u001b[0m\u001b[32m:40:00\"\u001b[0m, \u001b[32m'command'\u001b[0m: \u001b[32m'sleep 31536000'\u001b[0m, \u001b[32m'queue'\u001b[0m: \u001b[32m'default'\u001b[0m\u001b[1m}\u001b[0m on \u001b[2m                    \u001b[0m\n",
       "         rennes                                                          \u001b[2m                    \u001b[0m\n"
      ]
     },
     "metadata": {},
     "output_type": "display_data"
    },
    {
     "data": {
      "text/html": [
       "<pre style=\"white-space:pre;overflow-x:auto;line-height:normal;font-family:Menlo,'DejaVu Sans Mono',consolas,'Courier New',monospace\"><span style=\"color: #000080; text-decoration-color: #000080\">INFO    </span> <span style=\"font-weight: bold\">[</span>G5k<span style=\"font-weight: bold\">]</span> Waiting for <span style=\"color: #008080; text-decoration-color: #008080; font-weight: bold\">2380464</span> on rennes <span style=\"font-weight: bold\">[</span><span style=\"color: #008080; text-decoration-color: #008080; font-weight: bold\">2024</span>-<span style=\"color: #008080; text-decoration-color: #008080; font-weight: bold\">08</span>-<span style=\"color: #008080; text-decoration-color: #008080; font-weight: bold\">20</span> <span style=\"color: #00ff00; text-decoration-color: #00ff00; font-weight: bold\">11:45:42</span><span style=\"font-weight: bold\">]</span>       <a href=\"file:///Users/cherif/Documents/Traveaux/traces-simulator/venv/lib/python3.12/site-packages/enoslib/infra/enos_g5k/g5k_api_utils.py\" target=\"_blank\"><span style=\"color: #7f7f7f; text-decoration-color: #7f7f7f\">g5k_api_utils.py</span></a><span style=\"color: #7f7f7f; text-decoration-color: #7f7f7f\">:</span><a href=\"file:///Users/cherif/Documents/Traveaux/traces-simulator/venv/lib/python3.12/site-packages/enoslib/infra/enos_g5k/g5k_api_utils.py#336\" target=\"_blank\"><span style=\"color: #7f7f7f; text-decoration-color: #7f7f7f\">336</span></a>\n",
       "</pre>\n"
      ],
      "text/plain": [
       "\u001b[34mINFO    \u001b[0m \u001b[1m[\u001b[0mG5k\u001b[1m]\u001b[0m Waiting for \u001b[1;36m2380464\u001b[0m on rennes \u001b[1m[\u001b[0m\u001b[1;36m2024\u001b[0m-\u001b[1;36m08\u001b[0m-\u001b[1;36m20\u001b[0m \u001b[1;92m11:45:42\u001b[0m\u001b[1m]\u001b[0m       \u001b]8;id=220414;file:///Users/cherif/Documents/Traveaux/traces-simulator/venv/lib/python3.12/site-packages/enoslib/infra/enos_g5k/g5k_api_utils.py\u001b\\\u001b[2mg5k_api_utils.py\u001b[0m\u001b]8;;\u001b\\\u001b[2m:\u001b[0m\u001b]8;id=143934;file:///Users/cherif/Documents/Traveaux/traces-simulator/venv/lib/python3.12/site-packages/enoslib/infra/enos_g5k/g5k_api_utils.py#336\u001b\\\u001b[2m336\u001b[0m\u001b]8;;\u001b\\\n"
      ]
     },
     "metadata": {},
     "output_type": "display_data"
    },
    {
     "data": {
      "text/html": [
       "<pre style=\"white-space:pre;overflow-x:auto;line-height:normal;font-family:Menlo,'DejaVu Sans Mono',consolas,'Courier New',monospace\"><span style=\"color: #000080; text-decoration-color: #000080\">INFO    </span> <span style=\"font-weight: bold\">[</span>G5k<span style=\"font-weight: bold\">]</span> Waiting for <span style=\"color: #008080; text-decoration-color: #008080; font-weight: bold\">2380464</span> on rennes <span style=\"font-weight: bold\">[</span><span style=\"color: #008080; text-decoration-color: #008080; font-weight: bold\">2024</span>-<span style=\"color: #008080; text-decoration-color: #008080; font-weight: bold\">08</span>-<span style=\"color: #008080; text-decoration-color: #008080; font-weight: bold\">20</span> <span style=\"color: #00ff00; text-decoration-color: #00ff00; font-weight: bold\">11:45:42</span><span style=\"font-weight: bold\">]</span>       <a href=\"file:///Users/cherif/Documents/Traveaux/traces-simulator/venv/lib/python3.12/site-packages/enoslib/infra/enos_g5k/g5k_api_utils.py\" target=\"_blank\"><span style=\"color: #7f7f7f; text-decoration-color: #7f7f7f\">g5k_api_utils.py</span></a><span style=\"color: #7f7f7f; text-decoration-color: #7f7f7f\">:</span><a href=\"file:///Users/cherif/Documents/Traveaux/traces-simulator/venv/lib/python3.12/site-packages/enoslib/infra/enos_g5k/g5k_api_utils.py#336\" target=\"_blank\"><span style=\"color: #7f7f7f; text-decoration-color: #7f7f7f\">336</span></a>\n",
       "</pre>\n"
      ],
      "text/plain": [
       "\u001b[34mINFO    \u001b[0m \u001b[1m[\u001b[0mG5k\u001b[1m]\u001b[0m Waiting for \u001b[1;36m2380464\u001b[0m on rennes \u001b[1m[\u001b[0m\u001b[1;36m2024\u001b[0m-\u001b[1;36m08\u001b[0m-\u001b[1;36m20\u001b[0m \u001b[1;92m11:45:42\u001b[0m\u001b[1m]\u001b[0m       \u001b]8;id=9006;file:///Users/cherif/Documents/Traveaux/traces-simulator/venv/lib/python3.12/site-packages/enoslib/infra/enos_g5k/g5k_api_utils.py\u001b\\\u001b[2mg5k_api_utils.py\u001b[0m\u001b]8;;\u001b\\\u001b[2m:\u001b[0m\u001b]8;id=332381;file:///Users/cherif/Documents/Traveaux/traces-simulator/venv/lib/python3.12/site-packages/enoslib/infra/enos_g5k/g5k_api_utils.py#336\u001b\\\u001b[2m336\u001b[0m\u001b]8;;\u001b\\\n"
      ]
     },
     "metadata": {},
     "output_type": "display_data"
    },
    {
     "data": {
      "text/html": [
       "<pre style=\"white-space:pre;overflow-x:auto;line-height:normal;font-family:Menlo,'DejaVu Sans Mono',consolas,'Courier New',monospace\"><span style=\"color: #000080; text-decoration-color: #000080\">INFO    </span> <span style=\"font-weight: bold\">[</span>G5k<span style=\"font-weight: bold\">]</span> Waiting for <span style=\"color: #008080; text-decoration-color: #008080; font-weight: bold\">2380464</span> on rennes <span style=\"font-weight: bold\">[</span><span style=\"color: #008080; text-decoration-color: #008080; font-weight: bold\">2024</span>-<span style=\"color: #008080; text-decoration-color: #008080; font-weight: bold\">08</span>-<span style=\"color: #008080; text-decoration-color: #008080; font-weight: bold\">20</span> <span style=\"color: #00ff00; text-decoration-color: #00ff00; font-weight: bold\">11:45:54</span><span style=\"font-weight: bold\">]</span>       <a href=\"file:///Users/cherif/Documents/Traveaux/traces-simulator/venv/lib/python3.12/site-packages/enoslib/infra/enos_g5k/g5k_api_utils.py\" target=\"_blank\"><span style=\"color: #7f7f7f; text-decoration-color: #7f7f7f\">g5k_api_utils.py</span></a><span style=\"color: #7f7f7f; text-decoration-color: #7f7f7f\">:</span><a href=\"file:///Users/cherif/Documents/Traveaux/traces-simulator/venv/lib/python3.12/site-packages/enoslib/infra/enos_g5k/g5k_api_utils.py#336\" target=\"_blank\"><span style=\"color: #7f7f7f; text-decoration-color: #7f7f7f\">336</span></a>\n",
       "</pre>\n"
      ],
      "text/plain": [
       "\u001b[34mINFO    \u001b[0m \u001b[1m[\u001b[0mG5k\u001b[1m]\u001b[0m Waiting for \u001b[1;36m2380464\u001b[0m on rennes \u001b[1m[\u001b[0m\u001b[1;36m2024\u001b[0m-\u001b[1;36m08\u001b[0m-\u001b[1;36m20\u001b[0m \u001b[1;92m11:45:54\u001b[0m\u001b[1m]\u001b[0m       \u001b]8;id=733018;file:///Users/cherif/Documents/Traveaux/traces-simulator/venv/lib/python3.12/site-packages/enoslib/infra/enos_g5k/g5k_api_utils.py\u001b\\\u001b[2mg5k_api_utils.py\u001b[0m\u001b]8;;\u001b\\\u001b[2m:\u001b[0m\u001b]8;id=647219;file:///Users/cherif/Documents/Traveaux/traces-simulator/venv/lib/python3.12/site-packages/enoslib/infra/enos_g5k/g5k_api_utils.py#336\u001b\\\u001b[2m336\u001b[0m\u001b]8;;\u001b\\\n"
      ]
     },
     "metadata": {},
     "output_type": "display_data"
    },
    {
     "data": {
      "text/html": [
       "<pre style=\"white-space:pre;overflow-x:auto;line-height:normal;font-family:Menlo,'DejaVu Sans Mono',consolas,'Courier New',monospace\"><span style=\"color: #000080; text-decoration-color: #000080\">INFO    </span> <span style=\"font-weight: bold\">[</span>G5k<span style=\"font-weight: bold\">]</span> Waiting for <span style=\"color: #008080; text-decoration-color: #008080; font-weight: bold\">2380464</span> on rennes <span style=\"font-weight: bold\">[</span><span style=\"color: #008080; text-decoration-color: #008080; font-weight: bold\">2024</span>-<span style=\"color: #008080; text-decoration-color: #008080; font-weight: bold\">08</span>-<span style=\"color: #008080; text-decoration-color: #008080; font-weight: bold\">20</span> <span style=\"color: #00ff00; text-decoration-color: #00ff00; font-weight: bold\">11:45:54</span><span style=\"font-weight: bold\">]</span>       <a href=\"file:///Users/cherif/Documents/Traveaux/traces-simulator/venv/lib/python3.12/site-packages/enoslib/infra/enos_g5k/g5k_api_utils.py\" target=\"_blank\"><span style=\"color: #7f7f7f; text-decoration-color: #7f7f7f\">g5k_api_utils.py</span></a><span style=\"color: #7f7f7f; text-decoration-color: #7f7f7f\">:</span><a href=\"file:///Users/cherif/Documents/Traveaux/traces-simulator/venv/lib/python3.12/site-packages/enoslib/infra/enos_g5k/g5k_api_utils.py#336\" target=\"_blank\"><span style=\"color: #7f7f7f; text-decoration-color: #7f7f7f\">336</span></a>\n",
       "</pre>\n"
      ],
      "text/plain": [
       "\u001b[34mINFO    \u001b[0m \u001b[1m[\u001b[0mG5k\u001b[1m]\u001b[0m Waiting for \u001b[1;36m2380464\u001b[0m on rennes \u001b[1m[\u001b[0m\u001b[1;36m2024\u001b[0m-\u001b[1;36m08\u001b[0m-\u001b[1;36m20\u001b[0m \u001b[1;92m11:45:54\u001b[0m\u001b[1m]\u001b[0m       \u001b]8;id=713454;file:///Users/cherif/Documents/Traveaux/traces-simulator/venv/lib/python3.12/site-packages/enoslib/infra/enos_g5k/g5k_api_utils.py\u001b\\\u001b[2mg5k_api_utils.py\u001b[0m\u001b]8;;\u001b\\\u001b[2m:\u001b[0m\u001b]8;id=153894;file:///Users/cherif/Documents/Traveaux/traces-simulator/venv/lib/python3.12/site-packages/enoslib/infra/enos_g5k/g5k_api_utils.py#336\u001b\\\u001b[2m336\u001b[0m\u001b]8;;\u001b\\\n"
      ]
     },
     "metadata": {},
     "output_type": "display_data"
    },
    {
     "data": {
      "text/html": [
       "<pre style=\"white-space:pre;overflow-x:auto;line-height:normal;font-family:Menlo,'DejaVu Sans Mono',consolas,'Courier New',monospace\"><span style=\"color: #000080; text-decoration-color: #000080\">INFO    </span> <span style=\"font-weight: bold\">[</span>G5k<span style=\"font-weight: bold\">]</span> Waiting for <span style=\"color: #008080; text-decoration-color: #008080; font-weight: bold\">2380464</span> on rennes <span style=\"font-weight: bold\">[</span><span style=\"color: #008080; text-decoration-color: #008080; font-weight: bold\">2024</span>-<span style=\"color: #008080; text-decoration-color: #008080; font-weight: bold\">08</span>-<span style=\"color: #008080; text-decoration-color: #008080; font-weight: bold\">20</span> <span style=\"color: #00ff00; text-decoration-color: #00ff00; font-weight: bold\">11:45:54</span><span style=\"font-weight: bold\">]</span>       <a href=\"file:///Users/cherif/Documents/Traveaux/traces-simulator/venv/lib/python3.12/site-packages/enoslib/infra/enos_g5k/g5k_api_utils.py\" target=\"_blank\"><span style=\"color: #7f7f7f; text-decoration-color: #7f7f7f\">g5k_api_utils.py</span></a><span style=\"color: #7f7f7f; text-decoration-color: #7f7f7f\">:</span><a href=\"file:///Users/cherif/Documents/Traveaux/traces-simulator/venv/lib/python3.12/site-packages/enoslib/infra/enos_g5k/g5k_api_utils.py#336\" target=\"_blank\"><span style=\"color: #7f7f7f; text-decoration-color: #7f7f7f\">336</span></a>\n",
       "</pre>\n"
      ],
      "text/plain": [
       "\u001b[34mINFO    \u001b[0m \u001b[1m[\u001b[0mG5k\u001b[1m]\u001b[0m Waiting for \u001b[1;36m2380464\u001b[0m on rennes \u001b[1m[\u001b[0m\u001b[1;36m2024\u001b[0m-\u001b[1;36m08\u001b[0m-\u001b[1;36m20\u001b[0m \u001b[1;92m11:45:54\u001b[0m\u001b[1m]\u001b[0m       \u001b]8;id=779108;file:///Users/cherif/Documents/Traveaux/traces-simulator/venv/lib/python3.12/site-packages/enoslib/infra/enos_g5k/g5k_api_utils.py\u001b\\\u001b[2mg5k_api_utils.py\u001b[0m\u001b]8;;\u001b\\\u001b[2m:\u001b[0m\u001b]8;id=228827;file:///Users/cherif/Documents/Traveaux/traces-simulator/venv/lib/python3.12/site-packages/enoslib/infra/enos_g5k/g5k_api_utils.py#336\u001b\\\u001b[2m336\u001b[0m\u001b]8;;\u001b\\\n"
      ]
     },
     "metadata": {},
     "output_type": "display_data"
    },
    {
     "data": {
      "text/html": [
       "<pre style=\"white-space:pre;overflow-x:auto;line-height:normal;font-family:Menlo,'DejaVu Sans Mono',consolas,'Courier New',monospace\"><span style=\"color: #000080; text-decoration-color: #000080\">INFO    </span> <span style=\"font-weight: bold\">[</span>G5k<span style=\"font-weight: bold\">]</span> Waiting for <span style=\"color: #008080; text-decoration-color: #008080; font-weight: bold\">2380464</span> on rennes <span style=\"font-weight: bold\">[</span><span style=\"color: #008080; text-decoration-color: #008080; font-weight: bold\">2024</span>-<span style=\"color: #008080; text-decoration-color: #008080; font-weight: bold\">08</span>-<span style=\"color: #008080; text-decoration-color: #008080; font-weight: bold\">20</span> <span style=\"color: #00ff00; text-decoration-color: #00ff00; font-weight: bold\">11:46:11</span><span style=\"font-weight: bold\">]</span>       <a href=\"file:///Users/cherif/Documents/Traveaux/traces-simulator/venv/lib/python3.12/site-packages/enoslib/infra/enos_g5k/g5k_api_utils.py\" target=\"_blank\"><span style=\"color: #7f7f7f; text-decoration-color: #7f7f7f\">g5k_api_utils.py</span></a><span style=\"color: #7f7f7f; text-decoration-color: #7f7f7f\">:</span><a href=\"file:///Users/cherif/Documents/Traveaux/traces-simulator/venv/lib/python3.12/site-packages/enoslib/infra/enos_g5k/g5k_api_utils.py#336\" target=\"_blank\"><span style=\"color: #7f7f7f; text-decoration-color: #7f7f7f\">336</span></a>\n",
       "</pre>\n"
      ],
      "text/plain": [
       "\u001b[34mINFO    \u001b[0m \u001b[1m[\u001b[0mG5k\u001b[1m]\u001b[0m Waiting for \u001b[1;36m2380464\u001b[0m on rennes \u001b[1m[\u001b[0m\u001b[1;36m2024\u001b[0m-\u001b[1;36m08\u001b[0m-\u001b[1;36m20\u001b[0m \u001b[1;92m11:46:11\u001b[0m\u001b[1m]\u001b[0m       \u001b]8;id=319403;file:///Users/cherif/Documents/Traveaux/traces-simulator/venv/lib/python3.12/site-packages/enoslib/infra/enos_g5k/g5k_api_utils.py\u001b\\\u001b[2mg5k_api_utils.py\u001b[0m\u001b]8;;\u001b\\\u001b[2m:\u001b[0m\u001b]8;id=693536;file:///Users/cherif/Documents/Traveaux/traces-simulator/venv/lib/python3.12/site-packages/enoslib/infra/enos_g5k/g5k_api_utils.py#336\u001b\\\u001b[2m336\u001b[0m\u001b]8;;\u001b\\\n"
      ]
     },
     "metadata": {},
     "output_type": "display_data"
    },
    {
     "data": {
      "text/html": [
       "<pre style=\"white-space:pre;overflow-x:auto;line-height:normal;font-family:Menlo,'DejaVu Sans Mono',consolas,'Courier New',monospace\"><span style=\"color: #000080; text-decoration-color: #000080\">INFO    </span> <span style=\"font-weight: bold\">[</span>G5k<span style=\"font-weight: bold\">]</span> Waiting for <span style=\"color: #008080; text-decoration-color: #008080; font-weight: bold\">2380464</span> on rennes <span style=\"font-weight: bold\">[</span><span style=\"color: #008080; text-decoration-color: #008080; font-weight: bold\">2024</span>-<span style=\"color: #008080; text-decoration-color: #008080; font-weight: bold\">08</span>-<span style=\"color: #008080; text-decoration-color: #008080; font-weight: bold\">20</span> <span style=\"color: #00ff00; text-decoration-color: #00ff00; font-weight: bold\">11:46:11</span><span style=\"font-weight: bold\">]</span>       <a href=\"file:///Users/cherif/Documents/Traveaux/traces-simulator/venv/lib/python3.12/site-packages/enoslib/infra/enos_g5k/g5k_api_utils.py\" target=\"_blank\"><span style=\"color: #7f7f7f; text-decoration-color: #7f7f7f\">g5k_api_utils.py</span></a><span style=\"color: #7f7f7f; text-decoration-color: #7f7f7f\">:</span><a href=\"file:///Users/cherif/Documents/Traveaux/traces-simulator/venv/lib/python3.12/site-packages/enoslib/infra/enos_g5k/g5k_api_utils.py#336\" target=\"_blank\"><span style=\"color: #7f7f7f; text-decoration-color: #7f7f7f\">336</span></a>\n",
       "</pre>\n"
      ],
      "text/plain": [
       "\u001b[34mINFO    \u001b[0m \u001b[1m[\u001b[0mG5k\u001b[1m]\u001b[0m Waiting for \u001b[1;36m2380464\u001b[0m on rennes \u001b[1m[\u001b[0m\u001b[1;36m2024\u001b[0m-\u001b[1;36m08\u001b[0m-\u001b[1;36m20\u001b[0m \u001b[1;92m11:46:11\u001b[0m\u001b[1m]\u001b[0m       \u001b]8;id=814140;file:///Users/cherif/Documents/Traveaux/traces-simulator/venv/lib/python3.12/site-packages/enoslib/infra/enos_g5k/g5k_api_utils.py\u001b\\\u001b[2mg5k_api_utils.py\u001b[0m\u001b]8;;\u001b\\\u001b[2m:\u001b[0m\u001b]8;id=248427;file:///Users/cherif/Documents/Traveaux/traces-simulator/venv/lib/python3.12/site-packages/enoslib/infra/enos_g5k/g5k_api_utils.py#336\u001b\\\u001b[2m336\u001b[0m\u001b]8;;\u001b\\\n"
      ]
     },
     "metadata": {},
     "output_type": "display_data"
    },
    {
     "data": {
      "text/html": [
       "<pre style=\"white-space:pre;overflow-x:auto;line-height:normal;font-family:Menlo,'DejaVu Sans Mono',consolas,'Courier New',monospace\"><span style=\"color: #000080; text-decoration-color: #000080\">INFO    </span> <span style=\"font-weight: bold\">[</span>G5k<span style=\"font-weight: bold\">]</span> Waiting for <span style=\"color: #008080; text-decoration-color: #008080; font-weight: bold\">2380464</span> on rennes <span style=\"font-weight: bold\">[</span><span style=\"color: #008080; text-decoration-color: #008080; font-weight: bold\">2024</span>-<span style=\"color: #008080; text-decoration-color: #008080; font-weight: bold\">08</span>-<span style=\"color: #008080; text-decoration-color: #008080; font-weight: bold\">20</span> <span style=\"color: #00ff00; text-decoration-color: #00ff00; font-weight: bold\">11:46:19</span><span style=\"font-weight: bold\">]</span>       <a href=\"file:///Users/cherif/Documents/Traveaux/traces-simulator/venv/lib/python3.12/site-packages/enoslib/infra/enos_g5k/g5k_api_utils.py\" target=\"_blank\"><span style=\"color: #7f7f7f; text-decoration-color: #7f7f7f\">g5k_api_utils.py</span></a><span style=\"color: #7f7f7f; text-decoration-color: #7f7f7f\">:</span><a href=\"file:///Users/cherif/Documents/Traveaux/traces-simulator/venv/lib/python3.12/site-packages/enoslib/infra/enos_g5k/g5k_api_utils.py#336\" target=\"_blank\"><span style=\"color: #7f7f7f; text-decoration-color: #7f7f7f\">336</span></a>\n",
       "</pre>\n"
      ],
      "text/plain": [
       "\u001b[34mINFO    \u001b[0m \u001b[1m[\u001b[0mG5k\u001b[1m]\u001b[0m Waiting for \u001b[1;36m2380464\u001b[0m on rennes \u001b[1m[\u001b[0m\u001b[1;36m2024\u001b[0m-\u001b[1;36m08\u001b[0m-\u001b[1;36m20\u001b[0m \u001b[1;92m11:46:19\u001b[0m\u001b[1m]\u001b[0m       \u001b]8;id=856742;file:///Users/cherif/Documents/Traveaux/traces-simulator/venv/lib/python3.12/site-packages/enoslib/infra/enos_g5k/g5k_api_utils.py\u001b\\\u001b[2mg5k_api_utils.py\u001b[0m\u001b]8;;\u001b\\\u001b[2m:\u001b[0m\u001b]8;id=620045;file:///Users/cherif/Documents/Traveaux/traces-simulator/venv/lib/python3.12/site-packages/enoslib/infra/enos_g5k/g5k_api_utils.py#336\u001b\\\u001b[2m336\u001b[0m\u001b]8;;\u001b\\\n"
      ]
     },
     "metadata": {},
     "output_type": "display_data"
    },
    {
     "data": {
      "text/html": [
       "<pre style=\"white-space:pre;overflow-x:auto;line-height:normal;font-family:Menlo,'DejaVu Sans Mono',consolas,'Courier New',monospace\"><span style=\"color: #000080; text-decoration-color: #000080\">INFO    </span> <span style=\"font-weight: bold\">[</span>G5k<span style=\"font-weight: bold\">]</span> Waiting for <span style=\"color: #008080; text-decoration-color: #008080; font-weight: bold\">2380464</span> on rennes <span style=\"font-weight: bold\">[</span><span style=\"color: #008080; text-decoration-color: #008080; font-weight: bold\">2024</span>-<span style=\"color: #008080; text-decoration-color: #008080; font-weight: bold\">08</span>-<span style=\"color: #008080; text-decoration-color: #008080; font-weight: bold\">20</span> <span style=\"color: #00ff00; text-decoration-color: #00ff00; font-weight: bold\">11:46:19</span><span style=\"font-weight: bold\">]</span>       <a href=\"file:///Users/cherif/Documents/Traveaux/traces-simulator/venv/lib/python3.12/site-packages/enoslib/infra/enos_g5k/g5k_api_utils.py\" target=\"_blank\"><span style=\"color: #7f7f7f; text-decoration-color: #7f7f7f\">g5k_api_utils.py</span></a><span style=\"color: #7f7f7f; text-decoration-color: #7f7f7f\">:</span><a href=\"file:///Users/cherif/Documents/Traveaux/traces-simulator/venv/lib/python3.12/site-packages/enoslib/infra/enos_g5k/g5k_api_utils.py#336\" target=\"_blank\"><span style=\"color: #7f7f7f; text-decoration-color: #7f7f7f\">336</span></a>\n",
       "</pre>\n"
      ],
      "text/plain": [
       "\u001b[34mINFO    \u001b[0m \u001b[1m[\u001b[0mG5k\u001b[1m]\u001b[0m Waiting for \u001b[1;36m2380464\u001b[0m on rennes \u001b[1m[\u001b[0m\u001b[1;36m2024\u001b[0m-\u001b[1;36m08\u001b[0m-\u001b[1;36m20\u001b[0m \u001b[1;92m11:46:19\u001b[0m\u001b[1m]\u001b[0m       \u001b]8;id=773745;file:///Users/cherif/Documents/Traveaux/traces-simulator/venv/lib/python3.12/site-packages/enoslib/infra/enos_g5k/g5k_api_utils.py\u001b\\\u001b[2mg5k_api_utils.py\u001b[0m\u001b]8;;\u001b\\\u001b[2m:\u001b[0m\u001b]8;id=248347;file:///Users/cherif/Documents/Traveaux/traces-simulator/venv/lib/python3.12/site-packages/enoslib/infra/enos_g5k/g5k_api_utils.py#336\u001b\\\u001b[2m336\u001b[0m\u001b]8;;\u001b\\\n"
      ]
     },
     "metadata": {},
     "output_type": "display_data"
    },
    {
     "data": {
      "text/html": [
       "<pre style=\"white-space:pre;overflow-x:auto;line-height:normal;font-family:Menlo,'DejaVu Sans Mono',consolas,'Courier New',monospace\"><span style=\"color: #000080; text-decoration-color: #000080\">INFO    </span> <span style=\"font-weight: bold\">[</span>G5k<span style=\"font-weight: bold\">]</span> Waiting for <span style=\"color: #008080; text-decoration-color: #008080; font-weight: bold\">2380464</span> on rennes <span style=\"font-weight: bold\">[</span><span style=\"color: #008080; text-decoration-color: #008080; font-weight: bold\">2024</span>-<span style=\"color: #008080; text-decoration-color: #008080; font-weight: bold\">08</span>-<span style=\"color: #008080; text-decoration-color: #008080; font-weight: bold\">20</span> <span style=\"color: #00ff00; text-decoration-color: #00ff00; font-weight: bold\">11:46:28</span><span style=\"font-weight: bold\">]</span>       <a href=\"file:///Users/cherif/Documents/Traveaux/traces-simulator/venv/lib/python3.12/site-packages/enoslib/infra/enos_g5k/g5k_api_utils.py\" target=\"_blank\"><span style=\"color: #7f7f7f; text-decoration-color: #7f7f7f\">g5k_api_utils.py</span></a><span style=\"color: #7f7f7f; text-decoration-color: #7f7f7f\">:</span><a href=\"file:///Users/cherif/Documents/Traveaux/traces-simulator/venv/lib/python3.12/site-packages/enoslib/infra/enos_g5k/g5k_api_utils.py#336\" target=\"_blank\"><span style=\"color: #7f7f7f; text-decoration-color: #7f7f7f\">336</span></a>\n",
       "</pre>\n"
      ],
      "text/plain": [
       "\u001b[34mINFO    \u001b[0m \u001b[1m[\u001b[0mG5k\u001b[1m]\u001b[0m Waiting for \u001b[1;36m2380464\u001b[0m on rennes \u001b[1m[\u001b[0m\u001b[1;36m2024\u001b[0m-\u001b[1;36m08\u001b[0m-\u001b[1;36m20\u001b[0m \u001b[1;92m11:46:28\u001b[0m\u001b[1m]\u001b[0m       \u001b]8;id=434002;file:///Users/cherif/Documents/Traveaux/traces-simulator/venv/lib/python3.12/site-packages/enoslib/infra/enos_g5k/g5k_api_utils.py\u001b\\\u001b[2mg5k_api_utils.py\u001b[0m\u001b]8;;\u001b\\\u001b[2m:\u001b[0m\u001b]8;id=661747;file:///Users/cherif/Documents/Traveaux/traces-simulator/venv/lib/python3.12/site-packages/enoslib/infra/enos_g5k/g5k_api_utils.py#336\u001b\\\u001b[2m336\u001b[0m\u001b]8;;\u001b\\\n"
      ]
     },
     "metadata": {},
     "output_type": "display_data"
    },
    {
     "data": {
      "text/html": [
       "<pre style=\"white-space:pre;overflow-x:auto;line-height:normal;font-family:Menlo,'DejaVu Sans Mono',consolas,'Courier New',monospace\"><span style=\"color: #000080; text-decoration-color: #000080\">INFO    </span> <span style=\"font-weight: bold\">[</span>G5k<span style=\"font-weight: bold\">]</span> Waiting for <span style=\"color: #008080; text-decoration-color: #008080; font-weight: bold\">2380464</span> on rennes <span style=\"font-weight: bold\">[</span><span style=\"color: #008080; text-decoration-color: #008080; font-weight: bold\">2024</span>-<span style=\"color: #008080; text-decoration-color: #008080; font-weight: bold\">08</span>-<span style=\"color: #008080; text-decoration-color: #008080; font-weight: bold\">20</span> <span style=\"color: #00ff00; text-decoration-color: #00ff00; font-weight: bold\">11:46:36</span><span style=\"font-weight: bold\">]</span>       <a href=\"file:///Users/cherif/Documents/Traveaux/traces-simulator/venv/lib/python3.12/site-packages/enoslib/infra/enos_g5k/g5k_api_utils.py\" target=\"_blank\"><span style=\"color: #7f7f7f; text-decoration-color: #7f7f7f\">g5k_api_utils.py</span></a><span style=\"color: #7f7f7f; text-decoration-color: #7f7f7f\">:</span><a href=\"file:///Users/cherif/Documents/Traveaux/traces-simulator/venv/lib/python3.12/site-packages/enoslib/infra/enos_g5k/g5k_api_utils.py#336\" target=\"_blank\"><span style=\"color: #7f7f7f; text-decoration-color: #7f7f7f\">336</span></a>\n",
       "</pre>\n"
      ],
      "text/plain": [
       "\u001b[34mINFO    \u001b[0m \u001b[1m[\u001b[0mG5k\u001b[1m]\u001b[0m Waiting for \u001b[1;36m2380464\u001b[0m on rennes \u001b[1m[\u001b[0m\u001b[1;36m2024\u001b[0m-\u001b[1;36m08\u001b[0m-\u001b[1;36m20\u001b[0m \u001b[1;92m11:46:36\u001b[0m\u001b[1m]\u001b[0m       \u001b]8;id=318336;file:///Users/cherif/Documents/Traveaux/traces-simulator/venv/lib/python3.12/site-packages/enoslib/infra/enos_g5k/g5k_api_utils.py\u001b\\\u001b[2mg5k_api_utils.py\u001b[0m\u001b]8;;\u001b\\\u001b[2m:\u001b[0m\u001b]8;id=728017;file:///Users/cherif/Documents/Traveaux/traces-simulator/venv/lib/python3.12/site-packages/enoslib/infra/enos_g5k/g5k_api_utils.py#336\u001b\\\u001b[2m336\u001b[0m\u001b]8;;\u001b\\\n"
      ]
     },
     "metadata": {},
     "output_type": "display_data"
    },
    {
     "data": {
      "text/html": [
       "<pre style=\"white-space:pre;overflow-x:auto;line-height:normal;font-family:Menlo,'DejaVu Sans Mono',consolas,'Courier New',monospace\"><span style=\"color: #000080; text-decoration-color: #000080\">INFO    </span> <span style=\"font-weight: bold\">[</span>G5k<span style=\"font-weight: bold\">]</span> Waiting for <span style=\"color: #008080; text-decoration-color: #008080; font-weight: bold\">2380464</span> on rennes <span style=\"font-weight: bold\">[</span><span style=\"color: #008080; text-decoration-color: #008080; font-weight: bold\">2024</span>-<span style=\"color: #008080; text-decoration-color: #008080; font-weight: bold\">08</span>-<span style=\"color: #008080; text-decoration-color: #008080; font-weight: bold\">20</span> <span style=\"color: #00ff00; text-decoration-color: #00ff00; font-weight: bold\">11:46:36</span><span style=\"font-weight: bold\">]</span>       <a href=\"file:///Users/cherif/Documents/Traveaux/traces-simulator/venv/lib/python3.12/site-packages/enoslib/infra/enos_g5k/g5k_api_utils.py\" target=\"_blank\"><span style=\"color: #7f7f7f; text-decoration-color: #7f7f7f\">g5k_api_utils.py</span></a><span style=\"color: #7f7f7f; text-decoration-color: #7f7f7f\">:</span><a href=\"file:///Users/cherif/Documents/Traveaux/traces-simulator/venv/lib/python3.12/site-packages/enoslib/infra/enos_g5k/g5k_api_utils.py#336\" target=\"_blank\"><span style=\"color: #7f7f7f; text-decoration-color: #7f7f7f\">336</span></a>\n",
       "</pre>\n"
      ],
      "text/plain": [
       "\u001b[34mINFO    \u001b[0m \u001b[1m[\u001b[0mG5k\u001b[1m]\u001b[0m Waiting for \u001b[1;36m2380464\u001b[0m on rennes \u001b[1m[\u001b[0m\u001b[1;36m2024\u001b[0m-\u001b[1;36m08\u001b[0m-\u001b[1;36m20\u001b[0m \u001b[1;92m11:46:36\u001b[0m\u001b[1m]\u001b[0m       \u001b]8;id=631137;file:///Users/cherif/Documents/Traveaux/traces-simulator/venv/lib/python3.12/site-packages/enoslib/infra/enos_g5k/g5k_api_utils.py\u001b\\\u001b[2mg5k_api_utils.py\u001b[0m\u001b]8;;\u001b\\\u001b[2m:\u001b[0m\u001b]8;id=184278;file:///Users/cherif/Documents/Traveaux/traces-simulator/venv/lib/python3.12/site-packages/enoslib/infra/enos_g5k/g5k_api_utils.py#336\u001b\\\u001b[2m336\u001b[0m\u001b]8;;\u001b\\\n"
      ]
     },
     "metadata": {},
     "output_type": "display_data"
    },
    {
     "data": {
      "text/html": [
       "<pre style=\"white-space:pre;overflow-x:auto;line-height:normal;font-family:Menlo,'DejaVu Sans Mono',consolas,'Courier New',monospace\"><span style=\"color: #000080; text-decoration-color: #000080\">INFO    </span> <span style=\"font-weight: bold\">[</span>G5k<span style=\"font-weight: bold\">]</span> All jobs are Running !                                    <a href=\"file:///Users/cherif/Documents/Traveaux/traces-simulator/venv/lib/python3.12/site-packages/enoslib/infra/enos_g5k/g5k_api_utils.py\" target=\"_blank\"><span style=\"color: #7f7f7f; text-decoration-color: #7f7f7f\">g5k_api_utils.py</span></a><span style=\"color: #7f7f7f; text-decoration-color: #7f7f7f\">:</span><a href=\"file:///Users/cherif/Documents/Traveaux/traces-simulator/venv/lib/python3.12/site-packages/enoslib/infra/enos_g5k/g5k_api_utils.py#342\" target=\"_blank\"><span style=\"color: #7f7f7f; text-decoration-color: #7f7f7f\">342</span></a>\n",
       "</pre>\n"
      ],
      "text/plain": [
       "\u001b[34mINFO    \u001b[0m \u001b[1m[\u001b[0mG5k\u001b[1m]\u001b[0m All jobs are Running !                                    \u001b]8;id=454657;file:///Users/cherif/Documents/Traveaux/traces-simulator/venv/lib/python3.12/site-packages/enoslib/infra/enos_g5k/g5k_api_utils.py\u001b\\\u001b[2mg5k_api_utils.py\u001b[0m\u001b]8;;\u001b\\\u001b[2m:\u001b[0m\u001b]8;id=340887;file:///Users/cherif/Documents/Traveaux/traces-simulator/venv/lib/python3.12/site-packages/enoslib/infra/enos_g5k/g5k_api_utils.py#342\u001b\\\u001b[2m342\u001b[0m\u001b]8;;\u001b\\\n"
      ]
     },
     "metadata": {},
     "output_type": "display_data"
    },
    {
     "data": {
      "application/vnd.jupyter.widget-view+json": {
       "model_id": "d49777190b3843e2a4f3b3f4f1b1b77b",
       "version_major": 2,
       "version_minor": 0
      },
      "text/plain": [
       "Output()"
      ]
     },
     "metadata": {},
     "output_type": "display_data"
    },
    {
     "data": {
      "text/html": [
       "<pre style=\"white-space:pre;overflow-x:auto;line-height:normal;font-family:Menlo,'DejaVu Sans Mono',consolas,'Courier New',monospace\"></pre>\n"
      ],
      "text/plain": []
     },
     "metadata": {},
     "output_type": "display_data"
    },
    {
     "data": {
      "text/html": [
       "<pre style=\"white-space:pre;overflow-x:auto;line-height:normal;font-family:Menlo,'DejaVu Sans Mono',consolas,'Courier New',monospace\"><span style=\"color: #000080; text-decoration-color: #000080; font-weight: bold\">Finished </span><span style=\"color: #000080; text-decoration-color: #000080; font-weight: bold\">1</span><span style=\"color: #000080; text-decoration-color: #000080; font-weight: bold\"> tasks</span> <span style=\"font-weight: bold; font-style: italic\">(</span><span style=\"font-style: italic\">Granting root access on the nodes </span><span style=\"font-weight: bold; font-style: italic\">(</span><span style=\"font-style: italic\">sudo-g5k</span><span style=\"font-weight: bold; font-style: italic\">))</span> on \n",
       "<span style=\"font-weight: bold\">{</span><span style=\"color: #008000; text-decoration-color: #008000\">'paravance-44.rennes.grid5000.fr'</span>, <span style=\"color: #008000; text-decoration-color: #008000\">'paravance-20.rennes.grid5000.fr'</span>, \n",
       "<span style=\"color: #008000; text-decoration-color: #008000\">'paravance-30.rennes.grid5000.fr'</span>, <span style=\"color: #008000; text-decoration-color: #008000\">'paravance-32.rennes.grid5000.fr'</span>, \n",
       "<span style=\"color: #008000; text-decoration-color: #008000\">'paravance-72.rennes.grid5000.fr'</span>, <span style=\"color: #008000; text-decoration-color: #008000\">'paravance-26.rennes.grid5000.fr'</span><span style=\"font-weight: bold\">}</span>\n",
       "</pre>\n"
      ],
      "text/plain": [
       "\u001b[1;34mFinished \u001b[0m\u001b[1;34m1\u001b[0m\u001b[1;34m tasks\u001b[0m \u001b[1;3m(\u001b[0m\u001b[3mGranting root access on the nodes \u001b[0m\u001b[1;3m(\u001b[0m\u001b[3msudo-g5k\u001b[0m\u001b[1;3m)\u001b[0m\u001b[1;3m)\u001b[0m on \n",
       "\u001b[1m{\u001b[0m\u001b[32m'paravance-44.rennes.grid5000.fr'\u001b[0m, \u001b[32m'paravance-20.rennes.grid5000.fr'\u001b[0m, \n",
       "\u001b[32m'paravance-30.rennes.grid5000.fr'\u001b[0m, \u001b[32m'paravance-32.rennes.grid5000.fr'\u001b[0m, \n",
       "\u001b[32m'paravance-72.rennes.grid5000.fr'\u001b[0m, \u001b[32m'paravance-26.rennes.grid5000.fr'\u001b[0m\u001b[1m}\u001b[0m\n"
      ]
     },
     "metadata": {},
     "output_type": "display_data"
    },
    {
     "data": {
      "text/html": [
       "<pre style=\"white-space:pre;overflow-x:auto;line-height:normal;font-family:Menlo,'DejaVu Sans Mono',consolas,'Courier New',monospace\"><span style=\"color: #00ff00; text-decoration-color: #00ff00\">─────────────────────────────────────────────────────────────────────────────────────────────</span>\n",
       "</pre>\n"
      ],
      "text/plain": [
       "\u001b[92m─────────────────────────────────────────────────────────────────────────────────────────────\u001b[0m\n"
      ]
     },
     "metadata": {},
     "output_type": "display_data"
    },
    {
     "data": {
      "application/vnd.jupyter.widget-view+json": {
       "model_id": "bdc049d8f61b4ebebabc065b4c237594",
       "version_major": 2,
       "version_minor": 0
      },
      "text/plain": [
       "Output()"
      ]
     },
     "metadata": {},
     "output_type": "display_data"
    },
    {
     "data": {
      "text/html": [
       "<pre style=\"white-space:pre;overflow-x:auto;line-height:normal;font-family:Menlo,'DejaVu Sans Mono',consolas,'Courier New',monospace\"></pre>\n"
      ],
      "text/plain": []
     },
     "metadata": {},
     "output_type": "display_data"
    },
    {
     "data": {
      "text/html": [
       "<pre style=\"white-space:pre;overflow-x:auto;line-height:normal;font-family:Menlo,'DejaVu Sans Mono',consolas,'Courier New',monospace\"><span style=\"color: #000080; text-decoration-color: #000080; font-weight: bold\">Finished </span><span style=\"color: #000080; text-decoration-color: #000080; font-weight: bold\">1</span><span style=\"color: #000080; text-decoration-color: #000080; font-weight: bold\"> tasks</span> <span style=\"font-weight: bold; font-style: italic\">(</span><span style=\"font-style: italic\">Waiting for connection</span><span style=\"font-weight: bold; font-style: italic\">)</span> on <span style=\"font-weight: bold\">{</span><span style=\"color: #008000; text-decoration-color: #008000\">'paravance-44.rennes.grid5000.fr'</span>, \n",
       "<span style=\"color: #008000; text-decoration-color: #008000\">'paravance-20.rennes.grid5000.fr'</span>, <span style=\"color: #008000; text-decoration-color: #008000\">'paravance-30.rennes.grid5000.fr'</span>, \n",
       "<span style=\"color: #008000; text-decoration-color: #008000\">'paravance-32.rennes.grid5000.fr'</span>, <span style=\"color: #008000; text-decoration-color: #008000\">'paravance-72.rennes.grid5000.fr'</span>, \n",
       "<span style=\"color: #008000; text-decoration-color: #008000\">'paravance-26.rennes.grid5000.fr'</span><span style=\"font-weight: bold\">}</span>\n",
       "</pre>\n"
      ],
      "text/plain": [
       "\u001b[1;34mFinished \u001b[0m\u001b[1;34m1\u001b[0m\u001b[1;34m tasks\u001b[0m \u001b[1;3m(\u001b[0m\u001b[3mWaiting for connection\u001b[0m\u001b[1;3m)\u001b[0m on \u001b[1m{\u001b[0m\u001b[32m'paravance-44.rennes.grid5000.fr'\u001b[0m, \n",
       "\u001b[32m'paravance-20.rennes.grid5000.fr'\u001b[0m, \u001b[32m'paravance-30.rennes.grid5000.fr'\u001b[0m, \n",
       "\u001b[32m'paravance-32.rennes.grid5000.fr'\u001b[0m, \u001b[32m'paravance-72.rennes.grid5000.fr'\u001b[0m, \n",
       "\u001b[32m'paravance-26.rennes.grid5000.fr'\u001b[0m\u001b[1m}\u001b[0m\n"
      ]
     },
     "metadata": {},
     "output_type": "display_data"
    },
    {
     "data": {
      "text/html": [
       "<pre style=\"white-space:pre;overflow-x:auto;line-height:normal;font-family:Menlo,'DejaVu Sans Mono',consolas,'Courier New',monospace\"><span style=\"color: #00ff00; text-decoration-color: #00ff00\">─────────────────────────────────────────────────────────────────────────────────────────────</span>\n",
       "</pre>\n"
      ],
      "text/plain": [
       "\u001b[92m─────────────────────────────────────────────────────────────────────────────────────────────\u001b[0m\n"
      ]
     },
     "metadata": {},
     "output_type": "display_data"
    },
    {
     "data": {
      "application/vnd.jupyter.widget-view+json": {
       "model_id": "e94a5dfbd7f147c798a57bcd44fc7381",
       "version_major": 2,
       "version_minor": 0
      },
      "text/plain": [
       "Output()"
      ]
     },
     "metadata": {},
     "output_type": "display_data"
    },
    {
     "data": {
      "text/html": [
       "<pre style=\"white-space:pre;overflow-x:auto;line-height:normal;font-family:Menlo,'DejaVu Sans Mono',consolas,'Courier New',monospace\"></pre>\n"
      ],
      "text/plain": []
     },
     "metadata": {},
     "output_type": "display_data"
    },
    {
     "data": {
      "text/html": [
       "<pre style=\"white-space:pre;overflow-x:auto;line-height:normal;font-family:Menlo,'DejaVu Sans Mono',consolas,'Courier New',monospace\"><span style=\"color: #000080; text-decoration-color: #000080; font-weight: bold\">Finished </span><span style=\"color: #000080; text-decoration-color: #000080; font-weight: bold\">7</span><span style=\"color: #000080; text-decoration-color: #000080; font-weight: bold\"> tasks</span> <span style=\"font-weight: bold; font-style: italic\">(</span><span style=\"font-style: italic\">Gathering Facts,setup,utils : include_tasks,utils : Dump network </span>\n",
       "<span style=\"font-style: italic\">information in a file,utils : Create the fake interfaces</span><span style=\"font-weight: bold; font-style: italic\">)</span> on \n",
       "<span style=\"font-weight: bold\">{</span><span style=\"color: #008000; text-decoration-color: #008000\">'paravance-44.rennes.grid5000.fr'</span>, <span style=\"color: #008000; text-decoration-color: #008000\">'paravance-20.rennes.grid5000.fr'</span>, \n",
       "<span style=\"color: #008000; text-decoration-color: #008000\">'paravance-30.rennes.grid5000.fr'</span>, <span style=\"color: #008000; text-decoration-color: #008000\">'paravance-32.rennes.grid5000.fr'</span>, \n",
       "<span style=\"color: #008000; text-decoration-color: #008000\">'paravance-72.rennes.grid5000.fr'</span>, <span style=\"color: #008000; text-decoration-color: #008000\">'paravance-26.rennes.grid5000.fr'</span><span style=\"font-weight: bold\">}</span>\n",
       "</pre>\n"
      ],
      "text/plain": [
       "\u001b[1;34mFinished \u001b[0m\u001b[1;34m7\u001b[0m\u001b[1;34m tasks\u001b[0m \u001b[1;3m(\u001b[0m\u001b[3mGathering Facts,setup,utils : include_tasks,utils : Dump network \u001b[0m\n",
       "\u001b[3minformation in a file,utils : Create the fake interfaces\u001b[0m\u001b[1;3m)\u001b[0m on \n",
       "\u001b[1m{\u001b[0m\u001b[32m'paravance-44.rennes.grid5000.fr'\u001b[0m, \u001b[32m'paravance-20.rennes.grid5000.fr'\u001b[0m, \n",
       "\u001b[32m'paravance-30.rennes.grid5000.fr'\u001b[0m, \u001b[32m'paravance-32.rennes.grid5000.fr'\u001b[0m, \n",
       "\u001b[32m'paravance-72.rennes.grid5000.fr'\u001b[0m, \u001b[32m'paravance-26.rennes.grid5000.fr'\u001b[0m\u001b[1m}\u001b[0m\n"
      ]
     },
     "metadata": {},
     "output_type": "display_data"
    },
    {
     "data": {
      "text/html": [
       "<pre style=\"white-space:pre;overflow-x:auto;line-height:normal;font-family:Menlo,'DejaVu Sans Mono',consolas,'Courier New',monospace\"><span style=\"color: #00ff00; text-decoration-color: #00ff00\">─────────────────────────────────────────────────────────────────────────────────────────────</span>\n",
       "</pre>\n"
      ],
      "text/plain": [
       "\u001b[92m─────────────────────────────────────────────────────────────────────────────────────────────\u001b[0m\n"
      ]
     },
     "metadata": {},
     "output_type": "display_data"
    },
    {
     "data": {
      "application/vnd.jupyter.widget-view+json": {
       "model_id": "50ac119c8a754894a8ec284553560953",
       "version_major": 2,
       "version_minor": 0
      },
      "text/plain": [
       "Output()"
      ]
     },
     "metadata": {},
     "output_type": "display_data"
    },
    {
     "name": "stdout",
     "output_type": "stream",
     "text": [
      "Reservation done !\n"
     ]
    },
    {
     "data": {
      "text/html": [
       "<pre style=\"white-space:pre;overflow-x:auto;line-height:normal;font-family:Menlo,'DejaVu Sans Mono',consolas,'Courier New',monospace\"></pre>\n"
      ],
      "text/plain": []
     },
     "metadata": {},
     "output_type": "display_data"
    },
    {
     "data": {
      "text/html": [
       "<pre style=\"white-space:pre;overflow-x:auto;line-height:normal;font-family:Menlo,'DejaVu Sans Mono',consolas,'Courier New',monospace\"><span style=\"color: #000080; text-decoration-color: #000080; font-weight: bold\">Finished </span><span style=\"color: #000080; text-decoration-color: #000080; font-weight: bold\">1</span><span style=\"color: #000080; text-decoration-color: #000080; font-weight: bold\"> tasks</span> <span style=\"font-weight: bold; font-style: italic\">(</span><span style=\"font-style: italic\">Applying the network constraints</span><span style=\"font-weight: bold; font-style: italic\">)</span> on <span style=\"font-weight: bold\">{</span><span style=\"color: #008000; text-decoration-color: #008000\">'paravance-44.rennes.grid5000.fr'</span>, \n",
       "<span style=\"color: #008000; text-decoration-color: #008000\">'paravance-20.rennes.grid5000.fr'</span>, <span style=\"color: #008000; text-decoration-color: #008000\">'paravance-30.rennes.grid5000.fr'</span>, \n",
       "<span style=\"color: #008000; text-decoration-color: #008000\">'paravance-32.rennes.grid5000.fr'</span>, <span style=\"color: #008000; text-decoration-color: #008000\">'paravance-72.rennes.grid5000.fr'</span>, \n",
       "<span style=\"color: #008000; text-decoration-color: #008000\">'paravance-26.rennes.grid5000.fr'</span><span style=\"font-weight: bold\">}</span>\n",
       "</pre>\n"
      ],
      "text/plain": [
       "\u001b[1;34mFinished \u001b[0m\u001b[1;34m1\u001b[0m\u001b[1;34m tasks\u001b[0m \u001b[1;3m(\u001b[0m\u001b[3mApplying the network constraints\u001b[0m\u001b[1;3m)\u001b[0m on \u001b[1m{\u001b[0m\u001b[32m'paravance-44.rennes.grid5000.fr'\u001b[0m, \n",
       "\u001b[32m'paravance-20.rennes.grid5000.fr'\u001b[0m, \u001b[32m'paravance-30.rennes.grid5000.fr'\u001b[0m, \n",
       "\u001b[32m'paravance-32.rennes.grid5000.fr'\u001b[0m, \u001b[32m'paravance-72.rennes.grid5000.fr'\u001b[0m, \n",
       "\u001b[32m'paravance-26.rennes.grid5000.fr'\u001b[0m\u001b[1m}\u001b[0m\n"
      ]
     },
     "metadata": {},
     "output_type": "display_data"
    },
    {
     "data": {
      "text/html": [
       "<pre style=\"white-space:pre;overflow-x:auto;line-height:normal;font-family:Menlo,'DejaVu Sans Mono',consolas,'Courier New',monospace\"><span style=\"color: #00ff00; text-decoration-color: #00ff00\">─────────────────────────────────────────────────────────────────────────────────────────────</span>\n",
       "</pre>\n"
      ],
      "text/plain": [
       "\u001b[92m─────────────────────────────────────────────────────────────────────────────────────────────\u001b[0m\n"
      ]
     },
     "metadata": {},
     "output_type": "display_data"
    },
    {
     "data": {
      "application/vnd.jupyter.widget-view+json": {
       "model_id": "c309b9543c9f44f6b9908764ba1847ff",
       "version_major": 2,
       "version_minor": 0
      },
      "text/plain": [
       "Output()"
      ]
     },
     "metadata": {},
     "output_type": "display_data"
    },
    {
     "name": "stdout",
     "output_type": "stream",
     "text": [
      "storage restriction using memcached for  ['A']\n"
     ]
    },
    {
     "data": {
      "text/html": [
       "<pre style=\"white-space:pre;overflow-x:auto;line-height:normal;font-family:Menlo,'DejaVu Sans Mono',consolas,'Courier New',monospace\"></pre>\n"
      ],
      "text/plain": []
     },
     "metadata": {},
     "output_type": "display_data"
    },
    {
     "data": {
      "text/html": [
       "<pre style=\"white-space:pre;overflow-x:auto;line-height:normal;font-family:Menlo,'DejaVu Sans Mono',consolas,'Courier New',monospace\"><span style=\"color: #000080; text-decoration-color: #000080; font-weight: bold\">Finished </span><span style=\"color: #000080; text-decoration-color: #000080; font-weight: bold\">2</span><span style=\"color: #000080; text-decoration-color: #000080; font-weight: bold\"> tasks</span> <span style=\"font-weight: bold; font-style: italic\">(</span><span style=\"font-style: italic\">apt,Start memcached with a pecifique config</span><span style=\"font-weight: bold; font-style: italic\">)</span> on \n",
       "<span style=\"font-weight: bold\">{</span><span style=\"color: #008000; text-decoration-color: #008000\">'paravance-20.rennes.grid5000.fr'</span><span style=\"font-weight: bold\">}</span>\n",
       "</pre>\n"
      ],
      "text/plain": [
       "\u001b[1;34mFinished \u001b[0m\u001b[1;34m2\u001b[0m\u001b[1;34m tasks\u001b[0m \u001b[1;3m(\u001b[0m\u001b[3mapt,Start memcached with a pecifique config\u001b[0m\u001b[1;3m)\u001b[0m on \n",
       "\u001b[1m{\u001b[0m\u001b[32m'paravance-20.rennes.grid5000.fr'\u001b[0m\u001b[1m}\u001b[0m\n"
      ]
     },
     "metadata": {},
     "output_type": "display_data"
    },
    {
     "data": {
      "text/html": [
       "<pre style=\"white-space:pre;overflow-x:auto;line-height:normal;font-family:Menlo,'DejaVu Sans Mono',consolas,'Courier New',monospace\"><span style=\"color: #00ff00; text-decoration-color: #00ff00\">─────────────────────────────────────────────────────────────────────────────────────────────</span>\n",
       "</pre>\n"
      ],
      "text/plain": [
       "\u001b[92m─────────────────────────────────────────────────────────────────────────────────────────────\u001b[0m\n"
      ]
     },
     "metadata": {},
     "output_type": "display_data"
    },
    {
     "data": {
      "application/vnd.jupyter.widget-view+json": {
       "model_id": "f35f10c0be674a50af98f9246a4a42da",
       "version_major": 2,
       "version_minor": 0
      },
      "text/plain": [
       "Output()"
      ]
     },
     "metadata": {},
     "output_type": "display_data"
    },
    {
     "name": "stdout",
     "output_type": "stream",
     "text": [
      "storage restriction using memcached for  ['B']\n"
     ]
    },
    {
     "data": {
      "text/html": [
       "<pre style=\"white-space:pre;overflow-x:auto;line-height:normal;font-family:Menlo,'DejaVu Sans Mono',consolas,'Courier New',monospace\"></pre>\n"
      ],
      "text/plain": []
     },
     "metadata": {},
     "output_type": "display_data"
    },
    {
     "data": {
      "text/html": [
       "<pre style=\"white-space:pre;overflow-x:auto;line-height:normal;font-family:Menlo,'DejaVu Sans Mono',consolas,'Courier New',monospace\"><span style=\"color: #000080; text-decoration-color: #000080; font-weight: bold\">Finished </span><span style=\"color: #000080; text-decoration-color: #000080; font-weight: bold\">2</span><span style=\"color: #000080; text-decoration-color: #000080; font-weight: bold\"> tasks</span> <span style=\"font-weight: bold; font-style: italic\">(</span><span style=\"font-style: italic\">apt,Start memcached with a pecifique config</span><span style=\"font-weight: bold; font-style: italic\">)</span> on \n",
       "<span style=\"font-weight: bold\">{</span><span style=\"color: #008000; text-decoration-color: #008000\">'paravance-26.rennes.grid5000.fr'</span><span style=\"font-weight: bold\">}</span>\n",
       "</pre>\n"
      ],
      "text/plain": [
       "\u001b[1;34mFinished \u001b[0m\u001b[1;34m2\u001b[0m\u001b[1;34m tasks\u001b[0m \u001b[1;3m(\u001b[0m\u001b[3mapt,Start memcached with a pecifique config\u001b[0m\u001b[1;3m)\u001b[0m on \n",
       "\u001b[1m{\u001b[0m\u001b[32m'paravance-26.rennes.grid5000.fr'\u001b[0m\u001b[1m}\u001b[0m\n"
      ]
     },
     "metadata": {},
     "output_type": "display_data"
    },
    {
     "data": {
      "text/html": [
       "<pre style=\"white-space:pre;overflow-x:auto;line-height:normal;font-family:Menlo,'DejaVu Sans Mono',consolas,'Courier New',monospace\"><span style=\"color: #00ff00; text-decoration-color: #00ff00\">─────────────────────────────────────────────────────────────────────────────────────────────</span>\n",
       "</pre>\n"
      ],
      "text/plain": [
       "\u001b[92m─────────────────────────────────────────────────────────────────────────────────────────────\u001b[0m\n"
      ]
     },
     "metadata": {},
     "output_type": "display_data"
    },
    {
     "data": {
      "application/vnd.jupyter.widget-view+json": {
       "model_id": "356467095bef43deb9f67414ab41aef8",
       "version_major": 2,
       "version_minor": 0
      },
      "text/plain": [
       "Output()"
      ]
     },
     "metadata": {},
     "output_type": "display_data"
    },
    {
     "name": "stdout",
     "output_type": "stream",
     "text": [
      "storage restriction using memcached for  ['C']\n"
     ]
    },
    {
     "data": {
      "text/html": [
       "<pre style=\"white-space:pre;overflow-x:auto;line-height:normal;font-family:Menlo,'DejaVu Sans Mono',consolas,'Courier New',monospace\"></pre>\n"
      ],
      "text/plain": []
     },
     "metadata": {},
     "output_type": "display_data"
    },
    {
     "data": {
      "text/html": [
       "<pre style=\"white-space:pre;overflow-x:auto;line-height:normal;font-family:Menlo,'DejaVu Sans Mono',consolas,'Courier New',monospace\"><span style=\"color: #000080; text-decoration-color: #000080; font-weight: bold\">Finished </span><span style=\"color: #000080; text-decoration-color: #000080; font-weight: bold\">2</span><span style=\"color: #000080; text-decoration-color: #000080; font-weight: bold\"> tasks</span> <span style=\"font-weight: bold; font-style: italic\">(</span><span style=\"font-style: italic\">apt,Start memcached with a pecifique config</span><span style=\"font-weight: bold; font-style: italic\">)</span> on \n",
       "<span style=\"font-weight: bold\">{</span><span style=\"color: #008000; text-decoration-color: #008000\">'paravance-30.rennes.grid5000.fr'</span><span style=\"font-weight: bold\">}</span>\n",
       "</pre>\n"
      ],
      "text/plain": [
       "\u001b[1;34mFinished \u001b[0m\u001b[1;34m2\u001b[0m\u001b[1;34m tasks\u001b[0m \u001b[1;3m(\u001b[0m\u001b[3mapt,Start memcached with a pecifique config\u001b[0m\u001b[1;3m)\u001b[0m on \n",
       "\u001b[1m{\u001b[0m\u001b[32m'paravance-30.rennes.grid5000.fr'\u001b[0m\u001b[1m}\u001b[0m\n"
      ]
     },
     "metadata": {},
     "output_type": "display_data"
    },
    {
     "data": {
      "text/html": [
       "<pre style=\"white-space:pre;overflow-x:auto;line-height:normal;font-family:Menlo,'DejaVu Sans Mono',consolas,'Courier New',monospace\"><span style=\"color: #00ff00; text-decoration-color: #00ff00\">─────────────────────────────────────────────────────────────────────────────────────────────</span>\n",
       "</pre>\n"
      ],
      "text/plain": [
       "\u001b[92m─────────────────────────────────────────────────────────────────────────────────────────────\u001b[0m\n"
      ]
     },
     "metadata": {},
     "output_type": "display_data"
    },
    {
     "data": {
      "application/vnd.jupyter.widget-view+json": {
       "model_id": "148a0a7eeacc4ad9add071ba87045355",
       "version_major": 2,
       "version_minor": 0
      },
      "text/plain": [
       "Output()"
      ]
     },
     "metadata": {},
     "output_type": "display_data"
    },
    {
     "name": "stdout",
     "output_type": "stream",
     "text": [
      "storage restriction using memcached for  ['D']\n"
     ]
    },
    {
     "data": {
      "text/html": [
       "<pre style=\"white-space:pre;overflow-x:auto;line-height:normal;font-family:Menlo,'DejaVu Sans Mono',consolas,'Courier New',monospace\"></pre>\n"
      ],
      "text/plain": []
     },
     "metadata": {},
     "output_type": "display_data"
    },
    {
     "data": {
      "text/html": [
       "<pre style=\"white-space:pre;overflow-x:auto;line-height:normal;font-family:Menlo,'DejaVu Sans Mono',consolas,'Courier New',monospace\"><span style=\"color: #000080; text-decoration-color: #000080; font-weight: bold\">Finished </span><span style=\"color: #000080; text-decoration-color: #000080; font-weight: bold\">2</span><span style=\"color: #000080; text-decoration-color: #000080; font-weight: bold\"> tasks</span> <span style=\"font-weight: bold; font-style: italic\">(</span><span style=\"font-style: italic\">apt,Start memcached with a pecifique config</span><span style=\"font-weight: bold; font-style: italic\">)</span> on \n",
       "<span style=\"font-weight: bold\">{</span><span style=\"color: #008000; text-decoration-color: #008000\">'paravance-32.rennes.grid5000.fr'</span><span style=\"font-weight: bold\">}</span>\n",
       "</pre>\n"
      ],
      "text/plain": [
       "\u001b[1;34mFinished \u001b[0m\u001b[1;34m2\u001b[0m\u001b[1;34m tasks\u001b[0m \u001b[1;3m(\u001b[0m\u001b[3mapt,Start memcached with a pecifique config\u001b[0m\u001b[1;3m)\u001b[0m on \n",
       "\u001b[1m{\u001b[0m\u001b[32m'paravance-32.rennes.grid5000.fr'\u001b[0m\u001b[1m}\u001b[0m\n"
      ]
     },
     "metadata": {},
     "output_type": "display_data"
    },
    {
     "data": {
      "text/html": [
       "<pre style=\"white-space:pre;overflow-x:auto;line-height:normal;font-family:Menlo,'DejaVu Sans Mono',consolas,'Courier New',monospace\"><span style=\"color: #00ff00; text-decoration-color: #00ff00\">─────────────────────────────────────────────────────────────────────────────────────────────</span>\n",
       "</pre>\n"
      ],
      "text/plain": [
       "\u001b[92m─────────────────────────────────────────────────────────────────────────────────────────────\u001b[0m\n"
      ]
     },
     "metadata": {},
     "output_type": "display_data"
    },
    {
     "data": {
      "application/vnd.jupyter.widget-view+json": {
       "model_id": "5da0ab00f3934e24829c675281e7b7d4",
       "version_major": 2,
       "version_minor": 0
      },
      "text/plain": [
       "Output()"
      ]
     },
     "metadata": {},
     "output_type": "display_data"
    },
    {
     "name": "stdout",
     "output_type": "stream",
     "text": [
      "storage restriction using memcached for  ['E']\n"
     ]
    },
    {
     "data": {
      "text/html": [
       "<pre style=\"white-space:pre;overflow-x:auto;line-height:normal;font-family:Menlo,'DejaVu Sans Mono',consolas,'Courier New',monospace\"></pre>\n"
      ],
      "text/plain": []
     },
     "metadata": {},
     "output_type": "display_data"
    },
    {
     "data": {
      "text/html": [
       "<pre style=\"white-space:pre;overflow-x:auto;line-height:normal;font-family:Menlo,'DejaVu Sans Mono',consolas,'Courier New',monospace\"><span style=\"color: #000080; text-decoration-color: #000080; font-weight: bold\">Finished </span><span style=\"color: #000080; text-decoration-color: #000080; font-weight: bold\">2</span><span style=\"color: #000080; text-decoration-color: #000080; font-weight: bold\"> tasks</span> <span style=\"font-weight: bold; font-style: italic\">(</span><span style=\"font-style: italic\">apt,Start memcached with a pecifique config</span><span style=\"font-weight: bold; font-style: italic\">)</span> on \n",
       "<span style=\"font-weight: bold\">{</span><span style=\"color: #008000; text-decoration-color: #008000\">'paravance-44.rennes.grid5000.fr'</span><span style=\"font-weight: bold\">}</span>\n",
       "</pre>\n"
      ],
      "text/plain": [
       "\u001b[1;34mFinished \u001b[0m\u001b[1;34m2\u001b[0m\u001b[1;34m tasks\u001b[0m \u001b[1;3m(\u001b[0m\u001b[3mapt,Start memcached with a pecifique config\u001b[0m\u001b[1;3m)\u001b[0m on \n",
       "\u001b[1m{\u001b[0m\u001b[32m'paravance-44.rennes.grid5000.fr'\u001b[0m\u001b[1m}\u001b[0m\n"
      ]
     },
     "metadata": {},
     "output_type": "display_data"
    },
    {
     "data": {
      "text/html": [
       "<pre style=\"white-space:pre;overflow-x:auto;line-height:normal;font-family:Menlo,'DejaVu Sans Mono',consolas,'Courier New',monospace\"><span style=\"color: #00ff00; text-decoration-color: #00ff00\">─────────────────────────────────────────────────────────────────────────────────────────────</span>\n",
       "</pre>\n"
      ],
      "text/plain": [
       "\u001b[92m─────────────────────────────────────────────────────────────────────────────────────────────\u001b[0m\n"
      ]
     },
     "metadata": {},
     "output_type": "display_data"
    },
    {
     "data": {
      "application/vnd.jupyter.widget-view+json": {
       "model_id": "275bb50ff95147b68e645ac213a2b566",
       "version_major": 2,
       "version_minor": 0
      },
      "text/plain": [
       "Output()"
      ]
     },
     "metadata": {},
     "output_type": "display_data"
    },
    {
     "name": "stdout",
     "output_type": "stream",
     "text": [
      "storage restriction using memcached for  ['F']\n"
     ]
    },
    {
     "data": {
      "text/html": [
       "<pre style=\"white-space:pre;overflow-x:auto;line-height:normal;font-family:Menlo,'DejaVu Sans Mono',consolas,'Courier New',monospace\"></pre>\n"
      ],
      "text/plain": []
     },
     "metadata": {},
     "output_type": "display_data"
    },
    {
     "data": {
      "text/html": [
       "<pre style=\"white-space:pre;overflow-x:auto;line-height:normal;font-family:Menlo,'DejaVu Sans Mono',consolas,'Courier New',monospace\"><span style=\"color: #000080; text-decoration-color: #000080; font-weight: bold\">Finished </span><span style=\"color: #000080; text-decoration-color: #000080; font-weight: bold\">2</span><span style=\"color: #000080; text-decoration-color: #000080; font-weight: bold\"> tasks</span> <span style=\"font-weight: bold; font-style: italic\">(</span><span style=\"font-style: italic\">apt,Start memcached with a pecifique config</span><span style=\"font-weight: bold; font-style: italic\">)</span> on \n",
       "<span style=\"font-weight: bold\">{</span><span style=\"color: #008000; text-decoration-color: #008000\">'paravance-72.rennes.grid5000.fr'</span><span style=\"font-weight: bold\">}</span>\n",
       "</pre>\n"
      ],
      "text/plain": [
       "\u001b[1;34mFinished \u001b[0m\u001b[1;34m2\u001b[0m\u001b[1;34m tasks\u001b[0m \u001b[1;3m(\u001b[0m\u001b[3mapt,Start memcached with a pecifique config\u001b[0m\u001b[1;3m)\u001b[0m on \n",
       "\u001b[1m{\u001b[0m\u001b[32m'paravance-72.rennes.grid5000.fr'\u001b[0m\u001b[1m}\u001b[0m\n"
      ]
     },
     "metadata": {},
     "output_type": "display_data"
    },
    {
     "data": {
      "text/html": [
       "<pre style=\"white-space:pre;overflow-x:auto;line-height:normal;font-family:Menlo,'DejaVu Sans Mono',consolas,'Courier New',monospace\"><span style=\"color: #00ff00; text-decoration-color: #00ff00\">─────────────────────────────────────────────────────────────────────────────────────────────</span>\n",
       "</pre>\n"
      ],
      "text/plain": [
       "\u001b[92m─────────────────────────────────────────────────────────────────────────────────────────────\u001b[0m\n"
      ]
     },
     "metadata": {},
     "output_type": "display_data"
    },
    {
     "name": "stdout",
     "output_type": "stream",
     "text": [
      "['172.16.96.20', '172.16.96.26', '172.16.96.30', '172.16.96.32', '172.16.96.44', '172.16.96.72']\n"
     ]
    }
   ],
   "source": [
    "port_rep = REP_PORT\n",
    "\n",
    "\n",
    "\n",
    "config = Configuration(\n",
    "    config_file_path = \"/Users/cherif/Documents/Traveaux/traces-simulator/cache-exp/configurations/conf.yaml\",\n",
    "    memcached_listening_port=MEMCACHED_LISTENING_PORT\n",
    ")\n",
    "\n",
    "provider = config.setReservation()\n",
    "netem = config.setNetworkConstraintes()\n",
    "\n",
    "## deplot memcached\n",
    "config.deployMemcached(port=MEMCACHED_LISTENING_PORT)\n",
    "\n",
    "NB_NODES = config.nb_sites\n",
    "CONFIG_GRAPHE = config.getGraphe()\n",
    "IPS_ADDRESS = config.getAllIPs()\n",
    "\n",
    "print(IPS_ADDRESS)\n",
    "#config.provider.destroy()\n",
    "\n",
    "infos_nodes= []\n",
    "    \n",
    "if config.execution_local:\n",
    "    import threading\n",
    "    for i, machine in enumerate(config.machines):\n",
    "        if i == NB_NODES-1:\n",
    "\n",
    "            data = SendInfoToManager(i, CONFIG_GRAPHE,IPS_ADDRESS, REP_PORT)\n",
    "            \n",
    "            thread = threading.Thread(\n",
    "                target=run_command, \n",
    "                args=(f\"python replicaManager.py \",))\n",
    "            \n",
    "            thread.start()\n",
    "            \n",
    "            print(f\"adresse IP du node {i} : {IPS_ADDRESS[i]}\")\n",
    "            \n",
    "            sendObject(data, IPS_ADDRESS[i])\n",
    "            infos_nodes.append({\"node_ip\":IPS_ADDRESS[i], \"node_port\":SERVER_REPLICA_MANAGER_PORT})\n",
    "            port_rep += 1\n",
    "            time.sleep(1)\n",
    "        else:\n",
    "            data = InfosToSend(i,CONFIG_GRAPHE, IPS_ADDRESS,REP_PORT,config.storage_capacities[i])\n",
    "            \n",
    "            thread = threading.Thread(\n",
    "                target=run_command, \n",
    "                args=(f\"python cacheManager.py \",))\n",
    "            \n",
    "            thread.start()\n",
    "            \n",
    "            print(f\"adresse IP du node {i} : {IPS_ADDRESS[i]}\")\n",
    "            \n",
    "            sendObject(data, \"localhost\")\n",
    "            infos_nodes.append({\"node_ip\":IPS_ADDRESS[i], \"node_port\":port_rep})\n",
    "            port_rep += 1\n",
    "            time.sleep(1)\n",
    "                \n",
    "        \n",
    " \n",
    "    \n",
    "        \"\"\"print(\"Waiting for Outputs:\")\n",
    "        count = 0\n",
    "        time.sleep(60)\n",
    "\n",
    "        while True:\n",
    "            print(count)\n",
    "            if count == config.nb_sites:\n",
    "                break\n",
    "\n",
    "            for i, machine in enumerate(config.machines): \n",
    "                try:\n",
    "                    with config.enoslib.actions(roles=config.roles[machine[\"roles\"][0]]) as p:\n",
    "                        p.fetch(src=f\"/tmp/log_{i}.txt\", dest=\"~\")  \n",
    "                        #p.fetch(src=f\"/tmp/log_{i}.err\", dest=\"~\")\n",
    "                        #p.fetch(src=f\"/tmp/log_{i}.out\", dest=\"~\")    \n",
    "                    print(\"Output fetched\")\n",
    "                    count +=1                    \n",
    "                except Exception:\n",
    "                    continue\"\"\"\n",
    "        "
   ]
  },
  {
   "cell_type": "code",
   "execution_count": 6,
   "metadata": {},
   "outputs": [
    {
     "data": {
      "application/vnd.jupyter.widget-view+json": {
       "model_id": "09261dacda5e4110922407a79bbfd989",
       "version_major": 2,
       "version_minor": 0
      },
      "text/plain": [
       "Output()"
      ]
     },
     "metadata": {},
     "output_type": "display_data"
    },
    {
     "data": {
      "text/html": [
       "<pre style=\"white-space:pre;overflow-x:auto;line-height:normal;font-family:Menlo,'DejaVu Sans Mono',consolas,'Courier New',monospace\"></pre>\n"
      ],
      "text/plain": []
     },
     "metadata": {},
     "output_type": "display_data"
    },
    {
     "data": {
      "text/html": [
       "<pre style=\"white-space:pre;overflow-x:auto;line-height:normal;font-family:Menlo,'DejaVu Sans Mono',consolas,'Courier New',monospace\"><span style=\"color: #000080; text-decoration-color: #000080; font-weight: bold\">Finished </span><span style=\"color: #000080; text-decoration-color: #000080; font-weight: bold\">4</span><span style=\"color: #000080; text-decoration-color: #000080; font-weight: bold\"> tasks</span> <span style=\"font-weight: bold; font-style: italic\">(</span><span style=\"font-style: italic\">apt,Delete the last version of the repo,clone repo,installing python libs</span><span style=\"font-weight: bold; font-style: italic\">)</span> \n",
       "on <span style=\"font-weight: bold\">{</span><span style=\"color: #008000; text-decoration-color: #008000\">'paravance-20.rennes.grid5000.fr'</span><span style=\"font-weight: bold\">}</span>\n",
       "</pre>\n"
      ],
      "text/plain": [
       "\u001b[1;34mFinished \u001b[0m\u001b[1;34m4\u001b[0m\u001b[1;34m tasks\u001b[0m \u001b[1;3m(\u001b[0m\u001b[3mapt,Delete the last version of the repo,clone repo,installing python libs\u001b[0m\u001b[1;3m)\u001b[0m \n",
       "on \u001b[1m{\u001b[0m\u001b[32m'paravance-20.rennes.grid5000.fr'\u001b[0m\u001b[1m}\u001b[0m\n"
      ]
     },
     "metadata": {},
     "output_type": "display_data"
    },
    {
     "data": {
      "text/html": [
       "<pre style=\"white-space:pre;overflow-x:auto;line-height:normal;font-family:Menlo,'DejaVu Sans Mono',consolas,'Courier New',monospace\"><span style=\"color: #00ff00; text-decoration-color: #00ff00\">─────────────────────────────────────────────────────────────────────────────────────────────</span>\n",
       "</pre>\n"
      ],
      "text/plain": [
       "\u001b[92m─────────────────────────────────────────────────────────────────────────────────────────────\u001b[0m\n"
      ]
     },
     "metadata": {},
     "output_type": "display_data"
    },
    {
     "data": {
      "application/vnd.jupyter.widget-view+json": {
       "model_id": "2dd6450f090e4b30a01044dedfb6d9c6",
       "version_major": 2,
       "version_minor": 0
      },
      "text/plain": [
       "Output()"
      ]
     },
     "metadata": {},
     "output_type": "display_data"
    },
    {
     "name": "stdout",
     "output_type": "stream",
     "text": [
      "======= node 0 ========\n"
     ]
    },
    {
     "data": {
      "text/html": [
       "<pre style=\"white-space:pre;overflow-x:auto;line-height:normal;font-family:Menlo,'DejaVu Sans Mono',consolas,'Courier New',monospace\"></pre>\n"
      ],
      "text/plain": []
     },
     "metadata": {},
     "output_type": "display_data"
    },
    {
     "data": {
      "text/html": [
       "<pre style=\"white-space:pre;overflow-x:auto;line-height:normal;font-family:Menlo,'DejaVu Sans Mono',consolas,'Courier New',monospace\"><span style=\"color: #000080; text-decoration-color: #000080; font-weight: bold\">Finished </span><span style=\"color: #000080; text-decoration-color: #000080; font-weight: bold\">1</span><span style=\"color: #000080; text-decoration-color: #000080; font-weight: bold\"> tasks</span> <span style=\"font-weight: bold; font-style: italic\">(</span><span style=\"font-style: italic\">Executing the code on a site</span><span style=\"font-weight: bold; font-style: italic\">)</span> on <span style=\"font-weight: bold\">{</span><span style=\"color: #008000; text-decoration-color: #008000\">'paravance-20.rennes.grid5000.fr'</span><span style=\"font-weight: bold\">}</span>\n",
       "</pre>\n"
      ],
      "text/plain": [
       "\u001b[1;34mFinished \u001b[0m\u001b[1;34m1\u001b[0m\u001b[1;34m tasks\u001b[0m \u001b[1;3m(\u001b[0m\u001b[3mExecuting the code on a site\u001b[0m\u001b[1;3m)\u001b[0m on \u001b[1m{\u001b[0m\u001b[32m'paravance-20.rennes.grid5000.fr'\u001b[0m\u001b[1m}\u001b[0m\n"
      ]
     },
     "metadata": {},
     "output_type": "display_data"
    },
    {
     "data": {
      "text/html": [
       "<pre style=\"white-space:pre;overflow-x:auto;line-height:normal;font-family:Menlo,'DejaVu Sans Mono',consolas,'Courier New',monospace\"><span style=\"color: #00ff00; text-decoration-color: #00ff00\">─────────────────────────────────────────────────────────────────────────────────────────────</span>\n",
       "</pre>\n"
      ],
      "text/plain": [
       "\u001b[92m─────────────────────────────────────────────────────────────────────────────────────────────\u001b[0m\n"
      ]
     },
     "metadata": {},
     "output_type": "display_data"
    },
    {
     "name": "stdout",
     "output_type": "stream",
     "text": [
      "{'CACHE_SIZE': 536870912, 'infos': [{'latency': np.float64(1.0), 'id': 1, 'ip': '172.16.96.26', 'rep_port': 8881}, {'latency': np.float64(10.0), 'id': 2, 'ip': '172.16.96.30', 'rep_port': 8882}, {'latency': np.float64(20.0), 'id': 3, 'ip': '172.16.96.32', 'rep_port': 8883}, {'latency': np.float64(20.0), 'id': 4, 'ip': '172.16.96.44', 'rep_port': 8884}, {'latency': np.float64(60.0), 'id': 5, 'ip': '172.16.96.72', 'rep_port': 8885}], 'SITE_ID': 0, 'REP_PORT': 8880, 'IP_ADDRESS': '172.16.96.20', 'MANAGER_IP': '172.16.96.72'}\n"
     ]
    },
    {
     "data": {
      "application/vnd.jupyter.widget-view+json": {
       "model_id": "1a441a1db30f4fccbac8d02d710bc462",
       "version_major": 2,
       "version_minor": 0
      },
      "text/plain": [
       "Output()"
      ]
     },
     "metadata": {},
     "output_type": "display_data"
    },
    {
     "data": {
      "text/html": [
       "<pre style=\"white-space:pre;overflow-x:auto;line-height:normal;font-family:Menlo,'DejaVu Sans Mono',consolas,'Courier New',monospace\"></pre>\n"
      ],
      "text/plain": []
     },
     "metadata": {},
     "output_type": "display_data"
    },
    {
     "data": {
      "text/html": [
       "<pre style=\"white-space:pre;overflow-x:auto;line-height:normal;font-family:Menlo,'DejaVu Sans Mono',consolas,'Courier New',monospace\"><span style=\"color: #000080; text-decoration-color: #000080; font-weight: bold\">Finished </span><span style=\"color: #000080; text-decoration-color: #000080; font-weight: bold\">4</span><span style=\"color: #000080; text-decoration-color: #000080; font-weight: bold\"> tasks</span> <span style=\"font-weight: bold; font-style: italic\">(</span><span style=\"font-style: italic\">apt,Delete the last version of the repo,clone repo,installing python libs</span><span style=\"font-weight: bold; font-style: italic\">)</span> \n",
       "on <span style=\"font-weight: bold\">{</span><span style=\"color: #008000; text-decoration-color: #008000\">'paravance-26.rennes.grid5000.fr'</span><span style=\"font-weight: bold\">}</span>\n",
       "</pre>\n"
      ],
      "text/plain": [
       "\u001b[1;34mFinished \u001b[0m\u001b[1;34m4\u001b[0m\u001b[1;34m tasks\u001b[0m \u001b[1;3m(\u001b[0m\u001b[3mapt,Delete the last version of the repo,clone repo,installing python libs\u001b[0m\u001b[1;3m)\u001b[0m \n",
       "on \u001b[1m{\u001b[0m\u001b[32m'paravance-26.rennes.grid5000.fr'\u001b[0m\u001b[1m}\u001b[0m\n"
      ]
     },
     "metadata": {},
     "output_type": "display_data"
    },
    {
     "data": {
      "text/html": [
       "<pre style=\"white-space:pre;overflow-x:auto;line-height:normal;font-family:Menlo,'DejaVu Sans Mono',consolas,'Courier New',monospace\"><span style=\"color: #00ff00; text-decoration-color: #00ff00\">─────────────────────────────────────────────────────────────────────────────────────────────</span>\n",
       "</pre>\n"
      ],
      "text/plain": [
       "\u001b[92m─────────────────────────────────────────────────────────────────────────────────────────────\u001b[0m\n"
      ]
     },
     "metadata": {},
     "output_type": "display_data"
    },
    {
     "data": {
      "application/vnd.jupyter.widget-view+json": {
       "model_id": "0ba97909f2c04c719ca180e08675d075",
       "version_major": 2,
       "version_minor": 0
      },
      "text/plain": [
       "Output()"
      ]
     },
     "metadata": {},
     "output_type": "display_data"
    },
    {
     "name": "stdout",
     "output_type": "stream",
     "text": [
      "======= node 1 ========\n"
     ]
    },
    {
     "data": {
      "text/html": [
       "<pre style=\"white-space:pre;overflow-x:auto;line-height:normal;font-family:Menlo,'DejaVu Sans Mono',consolas,'Courier New',monospace\"></pre>\n"
      ],
      "text/plain": []
     },
     "metadata": {},
     "output_type": "display_data"
    },
    {
     "data": {
      "text/html": [
       "<pre style=\"white-space:pre;overflow-x:auto;line-height:normal;font-family:Menlo,'DejaVu Sans Mono',consolas,'Courier New',monospace\"><span style=\"color: #000080; text-decoration-color: #000080; font-weight: bold\">Finished </span><span style=\"color: #000080; text-decoration-color: #000080; font-weight: bold\">1</span><span style=\"color: #000080; text-decoration-color: #000080; font-weight: bold\"> tasks</span> <span style=\"font-weight: bold; font-style: italic\">(</span><span style=\"font-style: italic\">Executing the code on a site</span><span style=\"font-weight: bold; font-style: italic\">)</span> on <span style=\"font-weight: bold\">{</span><span style=\"color: #008000; text-decoration-color: #008000\">'paravance-26.rennes.grid5000.fr'</span><span style=\"font-weight: bold\">}</span>\n",
       "</pre>\n"
      ],
      "text/plain": [
       "\u001b[1;34mFinished \u001b[0m\u001b[1;34m1\u001b[0m\u001b[1;34m tasks\u001b[0m \u001b[1;3m(\u001b[0m\u001b[3mExecuting the code on a site\u001b[0m\u001b[1;3m)\u001b[0m on \u001b[1m{\u001b[0m\u001b[32m'paravance-26.rennes.grid5000.fr'\u001b[0m\u001b[1m}\u001b[0m\n"
      ]
     },
     "metadata": {},
     "output_type": "display_data"
    },
    {
     "data": {
      "text/html": [
       "<pre style=\"white-space:pre;overflow-x:auto;line-height:normal;font-family:Menlo,'DejaVu Sans Mono',consolas,'Courier New',monospace\"><span style=\"color: #00ff00; text-decoration-color: #00ff00\">─────────────────────────────────────────────────────────────────────────────────────────────</span>\n",
       "</pre>\n"
      ],
      "text/plain": [
       "\u001b[92m─────────────────────────────────────────────────────────────────────────────────────────────\u001b[0m\n"
      ]
     },
     "metadata": {},
     "output_type": "display_data"
    },
    {
     "name": "stdout",
     "output_type": "stream",
     "text": [
      "{'CACHE_SIZE': 536870912, 'infos': [{'latency': np.float64(8.0), 'id': 2, 'ip': '172.16.96.30', 'rep_port': 8882}, {'latency': np.float64(30.0), 'id': 3, 'ip': '172.16.96.32', 'rep_port': 8883}, {'latency': np.float64(20.0), 'id': 4, 'ip': '172.16.96.44', 'rep_port': 8884}, {'latency': np.float64(60.0), 'id': 5, 'ip': '172.16.96.72', 'rep_port': 8885}], 'SITE_ID': 1, 'REP_PORT': 8881, 'IP_ADDRESS': '172.16.96.26', 'MANAGER_IP': '172.16.96.72'}\n"
     ]
    },
    {
     "data": {
      "application/vnd.jupyter.widget-view+json": {
       "model_id": "4738a073d5f74ef7b16e8bdbadaab3d4",
       "version_major": 2,
       "version_minor": 0
      },
      "text/plain": [
       "Output()"
      ]
     },
     "metadata": {},
     "output_type": "display_data"
    },
    {
     "data": {
      "text/html": [
       "<pre style=\"white-space:pre;overflow-x:auto;line-height:normal;font-family:Menlo,'DejaVu Sans Mono',consolas,'Courier New',monospace\"></pre>\n"
      ],
      "text/plain": []
     },
     "metadata": {},
     "output_type": "display_data"
    },
    {
     "data": {
      "text/html": [
       "<pre style=\"white-space:pre;overflow-x:auto;line-height:normal;font-family:Menlo,'DejaVu Sans Mono',consolas,'Courier New',monospace\"><span style=\"color: #000080; text-decoration-color: #000080; font-weight: bold\">Finished </span><span style=\"color: #000080; text-decoration-color: #000080; font-weight: bold\">4</span><span style=\"color: #000080; text-decoration-color: #000080; font-weight: bold\"> tasks</span> <span style=\"font-weight: bold; font-style: italic\">(</span><span style=\"font-style: italic\">apt,Delete the last version of the repo,clone repo,installing python libs</span><span style=\"font-weight: bold; font-style: italic\">)</span> \n",
       "on <span style=\"font-weight: bold\">{</span><span style=\"color: #008000; text-decoration-color: #008000\">'paravance-30.rennes.grid5000.fr'</span><span style=\"font-weight: bold\">}</span>\n",
       "</pre>\n"
      ],
      "text/plain": [
       "\u001b[1;34mFinished \u001b[0m\u001b[1;34m4\u001b[0m\u001b[1;34m tasks\u001b[0m \u001b[1;3m(\u001b[0m\u001b[3mapt,Delete the last version of the repo,clone repo,installing python libs\u001b[0m\u001b[1;3m)\u001b[0m \n",
       "on \u001b[1m{\u001b[0m\u001b[32m'paravance-30.rennes.grid5000.fr'\u001b[0m\u001b[1m}\u001b[0m\n"
      ]
     },
     "metadata": {},
     "output_type": "display_data"
    },
    {
     "data": {
      "text/html": [
       "<pre style=\"white-space:pre;overflow-x:auto;line-height:normal;font-family:Menlo,'DejaVu Sans Mono',consolas,'Courier New',monospace\"><span style=\"color: #00ff00; text-decoration-color: #00ff00\">─────────────────────────────────────────────────────────────────────────────────────────────</span>\n",
       "</pre>\n"
      ],
      "text/plain": [
       "\u001b[92m─────────────────────────────────────────────────────────────────────────────────────────────\u001b[0m\n"
      ]
     },
     "metadata": {},
     "output_type": "display_data"
    },
    {
     "data": {
      "application/vnd.jupyter.widget-view+json": {
       "model_id": "aaee09025ce94bb5a495d8017d39e49b",
       "version_major": 2,
       "version_minor": 0
      },
      "text/plain": [
       "Output()"
      ]
     },
     "metadata": {},
     "output_type": "display_data"
    },
    {
     "name": "stdout",
     "output_type": "stream",
     "text": [
      "======= node 2 ========\n"
     ]
    },
    {
     "data": {
      "text/html": [
       "<pre style=\"white-space:pre;overflow-x:auto;line-height:normal;font-family:Menlo,'DejaVu Sans Mono',consolas,'Courier New',monospace\"></pre>\n"
      ],
      "text/plain": []
     },
     "metadata": {},
     "output_type": "display_data"
    },
    {
     "data": {
      "text/html": [
       "<pre style=\"white-space:pre;overflow-x:auto;line-height:normal;font-family:Menlo,'DejaVu Sans Mono',consolas,'Courier New',monospace\"><span style=\"color: #000080; text-decoration-color: #000080; font-weight: bold\">Finished </span><span style=\"color: #000080; text-decoration-color: #000080; font-weight: bold\">1</span><span style=\"color: #000080; text-decoration-color: #000080; font-weight: bold\"> tasks</span> <span style=\"font-weight: bold; font-style: italic\">(</span><span style=\"font-style: italic\">Executing the code on a site</span><span style=\"font-weight: bold; font-style: italic\">)</span> on <span style=\"font-weight: bold\">{</span><span style=\"color: #008000; text-decoration-color: #008000\">'paravance-30.rennes.grid5000.fr'</span><span style=\"font-weight: bold\">}</span>\n",
       "</pre>\n"
      ],
      "text/plain": [
       "\u001b[1;34mFinished \u001b[0m\u001b[1;34m1\u001b[0m\u001b[1;34m tasks\u001b[0m \u001b[1;3m(\u001b[0m\u001b[3mExecuting the code on a site\u001b[0m\u001b[1;3m)\u001b[0m on \u001b[1m{\u001b[0m\u001b[32m'paravance-30.rennes.grid5000.fr'\u001b[0m\u001b[1m}\u001b[0m\n"
      ]
     },
     "metadata": {},
     "output_type": "display_data"
    },
    {
     "data": {
      "text/html": [
       "<pre style=\"white-space:pre;overflow-x:auto;line-height:normal;font-family:Menlo,'DejaVu Sans Mono',consolas,'Courier New',monospace\"><span style=\"color: #00ff00; text-decoration-color: #00ff00\">─────────────────────────────────────────────────────────────────────────────────────────────</span>\n",
       "</pre>\n"
      ],
      "text/plain": [
       "\u001b[92m─────────────────────────────────────────────────────────────────────────────────────────────\u001b[0m\n"
      ]
     },
     "metadata": {},
     "output_type": "display_data"
    },
    {
     "name": "stdout",
     "output_type": "stream",
     "text": [
      "{'CACHE_SIZE': 536870912, 'infos': [{'latency': np.float64(10.0), 'id': 0, 'ip': '172.16.96.20', 'rep_port': 8880}, {'latency': np.float64(8.0), 'id': 1, 'ip': '172.16.96.26', 'rep_port': 8881}, {'latency': np.float64(30.0), 'id': 3, 'ip': '172.16.96.32', 'rep_port': 8883}, {'latency': np.float64(20.0), 'id': 4, 'ip': '172.16.96.44', 'rep_port': 8884}, {'latency': np.float64(50.0), 'id': 5, 'ip': '172.16.96.72', 'rep_port': 8885}], 'SITE_ID': 2, 'REP_PORT': 8882, 'IP_ADDRESS': '172.16.96.30', 'MANAGER_IP': '172.16.96.72'}\n"
     ]
    },
    {
     "data": {
      "application/vnd.jupyter.widget-view+json": {
       "model_id": "091e58a136134452b63ee832a9e2cf27",
       "version_major": 2,
       "version_minor": 0
      },
      "text/plain": [
       "Output()"
      ]
     },
     "metadata": {},
     "output_type": "display_data"
    },
    {
     "data": {
      "text/html": [
       "<pre style=\"white-space:pre;overflow-x:auto;line-height:normal;font-family:Menlo,'DejaVu Sans Mono',consolas,'Courier New',monospace\"></pre>\n"
      ],
      "text/plain": []
     },
     "metadata": {},
     "output_type": "display_data"
    },
    {
     "data": {
      "text/html": [
       "<pre style=\"white-space:pre;overflow-x:auto;line-height:normal;font-family:Menlo,'DejaVu Sans Mono',consolas,'Courier New',monospace\"><span style=\"color: #000080; text-decoration-color: #000080; font-weight: bold\">Finished </span><span style=\"color: #000080; text-decoration-color: #000080; font-weight: bold\">4</span><span style=\"color: #000080; text-decoration-color: #000080; font-weight: bold\"> tasks</span> <span style=\"font-weight: bold; font-style: italic\">(</span><span style=\"font-style: italic\">apt,Delete the last version of the repo,clone repo,installing python libs</span><span style=\"font-weight: bold; font-style: italic\">)</span> \n",
       "on <span style=\"font-weight: bold\">{</span><span style=\"color: #008000; text-decoration-color: #008000\">'paravance-32.rennes.grid5000.fr'</span><span style=\"font-weight: bold\">}</span>\n",
       "</pre>\n"
      ],
      "text/plain": [
       "\u001b[1;34mFinished \u001b[0m\u001b[1;34m4\u001b[0m\u001b[1;34m tasks\u001b[0m \u001b[1;3m(\u001b[0m\u001b[3mapt,Delete the last version of the repo,clone repo,installing python libs\u001b[0m\u001b[1;3m)\u001b[0m \n",
       "on \u001b[1m{\u001b[0m\u001b[32m'paravance-32.rennes.grid5000.fr'\u001b[0m\u001b[1m}\u001b[0m\n"
      ]
     },
     "metadata": {},
     "output_type": "display_data"
    },
    {
     "data": {
      "text/html": [
       "<pre style=\"white-space:pre;overflow-x:auto;line-height:normal;font-family:Menlo,'DejaVu Sans Mono',consolas,'Courier New',monospace\"><span style=\"color: #00ff00; text-decoration-color: #00ff00\">─────────────────────────────────────────────────────────────────────────────────────────────</span>\n",
       "</pre>\n"
      ],
      "text/plain": [
       "\u001b[92m─────────────────────────────────────────────────────────────────────────────────────────────\u001b[0m\n"
      ]
     },
     "metadata": {},
     "output_type": "display_data"
    },
    {
     "data": {
      "application/vnd.jupyter.widget-view+json": {
       "model_id": "14a7cef6094b49038e3b5ec68c1476d5",
       "version_major": 2,
       "version_minor": 0
      },
      "text/plain": [
       "Output()"
      ]
     },
     "metadata": {},
     "output_type": "display_data"
    },
    {
     "name": "stdout",
     "output_type": "stream",
     "text": [
      "======= node 3 ========\n"
     ]
    },
    {
     "data": {
      "text/html": [
       "<pre style=\"white-space:pre;overflow-x:auto;line-height:normal;font-family:Menlo,'DejaVu Sans Mono',consolas,'Courier New',monospace\"></pre>\n"
      ],
      "text/plain": []
     },
     "metadata": {},
     "output_type": "display_data"
    },
    {
     "data": {
      "text/html": [
       "<pre style=\"white-space:pre;overflow-x:auto;line-height:normal;font-family:Menlo,'DejaVu Sans Mono',consolas,'Courier New',monospace\"><span style=\"color: #000080; text-decoration-color: #000080; font-weight: bold\">Finished </span><span style=\"color: #000080; text-decoration-color: #000080; font-weight: bold\">1</span><span style=\"color: #000080; text-decoration-color: #000080; font-weight: bold\"> tasks</span> <span style=\"font-weight: bold; font-style: italic\">(</span><span style=\"font-style: italic\">Executing the code on a site</span><span style=\"font-weight: bold; font-style: italic\">)</span> on <span style=\"font-weight: bold\">{</span><span style=\"color: #008000; text-decoration-color: #008000\">'paravance-32.rennes.grid5000.fr'</span><span style=\"font-weight: bold\">}</span>\n",
       "</pre>\n"
      ],
      "text/plain": [
       "\u001b[1;34mFinished \u001b[0m\u001b[1;34m1\u001b[0m\u001b[1;34m tasks\u001b[0m \u001b[1;3m(\u001b[0m\u001b[3mExecuting the code on a site\u001b[0m\u001b[1;3m)\u001b[0m on \u001b[1m{\u001b[0m\u001b[32m'paravance-32.rennes.grid5000.fr'\u001b[0m\u001b[1m}\u001b[0m\n"
      ]
     },
     "metadata": {},
     "output_type": "display_data"
    },
    {
     "data": {
      "text/html": [
       "<pre style=\"white-space:pre;overflow-x:auto;line-height:normal;font-family:Menlo,'DejaVu Sans Mono',consolas,'Courier New',monospace\"><span style=\"color: #00ff00; text-decoration-color: #00ff00\">─────────────────────────────────────────────────────────────────────────────────────────────</span>\n",
       "</pre>\n"
      ],
      "text/plain": [
       "\u001b[92m─────────────────────────────────────────────────────────────────────────────────────────────\u001b[0m\n"
      ]
     },
     "metadata": {},
     "output_type": "display_data"
    },
    {
     "name": "stdout",
     "output_type": "stream",
     "text": [
      "{'CACHE_SIZE': 536870912, 'infos': [{'latency': np.float64(20.0), 'id': 0, 'ip': '172.16.96.20', 'rep_port': 8880}, {'latency': np.float64(30.0), 'id': 1, 'ip': '172.16.96.26', 'rep_port': 8881}, {'latency': np.float64(20.0), 'id': 4, 'ip': '172.16.96.44', 'rep_port': 8884}, {'latency': np.float64(31.0), 'id': 5, 'ip': '172.16.96.72', 'rep_port': 8885}], 'SITE_ID': 3, 'REP_PORT': 8883, 'IP_ADDRESS': '172.16.96.32', 'MANAGER_IP': '172.16.96.72'}\n"
     ]
    },
    {
     "data": {
      "application/vnd.jupyter.widget-view+json": {
       "model_id": "d2d5b5ea447c4106972c1382cba080ee",
       "version_major": 2,
       "version_minor": 0
      },
      "text/plain": [
       "Output()"
      ]
     },
     "metadata": {},
     "output_type": "display_data"
    },
    {
     "data": {
      "text/html": [
       "<pre style=\"white-space:pre;overflow-x:auto;line-height:normal;font-family:Menlo,'DejaVu Sans Mono',consolas,'Courier New',monospace\"></pre>\n"
      ],
      "text/plain": []
     },
     "metadata": {},
     "output_type": "display_data"
    },
    {
     "data": {
      "text/html": [
       "<pre style=\"white-space:pre;overflow-x:auto;line-height:normal;font-family:Menlo,'DejaVu Sans Mono',consolas,'Courier New',monospace\"><span style=\"color: #000080; text-decoration-color: #000080; font-weight: bold\">Finished </span><span style=\"color: #000080; text-decoration-color: #000080; font-weight: bold\">4</span><span style=\"color: #000080; text-decoration-color: #000080; font-weight: bold\"> tasks</span> <span style=\"font-weight: bold; font-style: italic\">(</span><span style=\"font-style: italic\">apt,Delete the last version of the repo,clone repo,installing python libs</span><span style=\"font-weight: bold; font-style: italic\">)</span> \n",
       "on <span style=\"font-weight: bold\">{</span><span style=\"color: #008000; text-decoration-color: #008000\">'paravance-44.rennes.grid5000.fr'</span><span style=\"font-weight: bold\">}</span>\n",
       "</pre>\n"
      ],
      "text/plain": [
       "\u001b[1;34mFinished \u001b[0m\u001b[1;34m4\u001b[0m\u001b[1;34m tasks\u001b[0m \u001b[1;3m(\u001b[0m\u001b[3mapt,Delete the last version of the repo,clone repo,installing python libs\u001b[0m\u001b[1;3m)\u001b[0m \n",
       "on \u001b[1m{\u001b[0m\u001b[32m'paravance-44.rennes.grid5000.fr'\u001b[0m\u001b[1m}\u001b[0m\n"
      ]
     },
     "metadata": {},
     "output_type": "display_data"
    },
    {
     "data": {
      "text/html": [
       "<pre style=\"white-space:pre;overflow-x:auto;line-height:normal;font-family:Menlo,'DejaVu Sans Mono',consolas,'Courier New',monospace\"><span style=\"color: #00ff00; text-decoration-color: #00ff00\">─────────────────────────────────────────────────────────────────────────────────────────────</span>\n",
       "</pre>\n"
      ],
      "text/plain": [
       "\u001b[92m─────────────────────────────────────────────────────────────────────────────────────────────\u001b[0m\n"
      ]
     },
     "metadata": {},
     "output_type": "display_data"
    },
    {
     "data": {
      "application/vnd.jupyter.widget-view+json": {
       "model_id": "b667af9f9ed34ae487b4ca4deb5e4355",
       "version_major": 2,
       "version_minor": 0
      },
      "text/plain": [
       "Output()"
      ]
     },
     "metadata": {},
     "output_type": "display_data"
    },
    {
     "name": "stdout",
     "output_type": "stream",
     "text": [
      "======= node 4 ========\n"
     ]
    },
    {
     "data": {
      "text/html": [
       "<pre style=\"white-space:pre;overflow-x:auto;line-height:normal;font-family:Menlo,'DejaVu Sans Mono',consolas,'Courier New',monospace\"></pre>\n"
      ],
      "text/plain": []
     },
     "metadata": {},
     "output_type": "display_data"
    },
    {
     "data": {
      "text/html": [
       "<pre style=\"white-space:pre;overflow-x:auto;line-height:normal;font-family:Menlo,'DejaVu Sans Mono',consolas,'Courier New',monospace\"><span style=\"color: #000080; text-decoration-color: #000080; font-weight: bold\">Finished </span><span style=\"color: #000080; text-decoration-color: #000080; font-weight: bold\">1</span><span style=\"color: #000080; text-decoration-color: #000080; font-weight: bold\"> tasks</span> <span style=\"font-weight: bold; font-style: italic\">(</span><span style=\"font-style: italic\">Executing the code on a site</span><span style=\"font-weight: bold; font-style: italic\">)</span> on <span style=\"font-weight: bold\">{</span><span style=\"color: #008000; text-decoration-color: #008000\">'paravance-44.rennes.grid5000.fr'</span><span style=\"font-weight: bold\">}</span>\n",
       "</pre>\n"
      ],
      "text/plain": [
       "\u001b[1;34mFinished \u001b[0m\u001b[1;34m1\u001b[0m\u001b[1;34m tasks\u001b[0m \u001b[1;3m(\u001b[0m\u001b[3mExecuting the code on a site\u001b[0m\u001b[1;3m)\u001b[0m on \u001b[1m{\u001b[0m\u001b[32m'paravance-44.rennes.grid5000.fr'\u001b[0m\u001b[1m}\u001b[0m\n"
      ]
     },
     "metadata": {},
     "output_type": "display_data"
    },
    {
     "data": {
      "text/html": [
       "<pre style=\"white-space:pre;overflow-x:auto;line-height:normal;font-family:Menlo,'DejaVu Sans Mono',consolas,'Courier New',monospace\"><span style=\"color: #00ff00; text-decoration-color: #00ff00\">─────────────────────────────────────────────────────────────────────────────────────────────</span>\n",
       "</pre>\n"
      ],
      "text/plain": [
       "\u001b[92m─────────────────────────────────────────────────────────────────────────────────────────────\u001b[0m\n"
      ]
     },
     "metadata": {},
     "output_type": "display_data"
    },
    {
     "name": "stdout",
     "output_type": "stream",
     "text": [
      "{'CACHE_SIZE': 536870912, 'infos': [{'latency': np.float64(20.0), 'id': 0, 'ip': '172.16.96.20', 'rep_port': 8880}, {'latency': np.float64(20.0), 'id': 1, 'ip': '172.16.96.26', 'rep_port': 8881}, {'latency': np.float64(20.0), 'id': 2, 'ip': '172.16.96.30', 'rep_port': 8882}, {'latency': np.float64(20.0), 'id': 3, 'ip': '172.16.96.32', 'rep_port': 8883}, {'latency': np.float64(60.0), 'id': 5, 'ip': '172.16.96.72', 'rep_port': 8885}], 'SITE_ID': 4, 'REP_PORT': 8884, 'IP_ADDRESS': '172.16.96.44', 'MANAGER_IP': '172.16.96.72'}\n"
     ]
    },
    {
     "data": {
      "application/vnd.jupyter.widget-view+json": {
       "model_id": "51cb64fe25ef48b58cce532ab59bebf8",
       "version_major": 2,
       "version_minor": 0
      },
      "text/plain": [
       "Output()"
      ]
     },
     "metadata": {},
     "output_type": "display_data"
    },
    {
     "data": {
      "text/html": [
       "<pre style=\"white-space:pre;overflow-x:auto;line-height:normal;font-family:Menlo,'DejaVu Sans Mono',consolas,'Courier New',monospace\"></pre>\n"
      ],
      "text/plain": []
     },
     "metadata": {},
     "output_type": "display_data"
    },
    {
     "data": {
      "text/html": [
       "<pre style=\"white-space:pre;overflow-x:auto;line-height:normal;font-family:Menlo,'DejaVu Sans Mono',consolas,'Courier New',monospace\"><span style=\"color: #000080; text-decoration-color: #000080; font-weight: bold\">Finished </span><span style=\"color: #000080; text-decoration-color: #000080; font-weight: bold\">4</span><span style=\"color: #000080; text-decoration-color: #000080; font-weight: bold\"> tasks</span> <span style=\"font-weight: bold; font-style: italic\">(</span><span style=\"font-style: italic\">apt,Delete the last version of the repo,clone repo,installing python libs</span><span style=\"font-weight: bold; font-style: italic\">)</span> \n",
       "on <span style=\"font-weight: bold\">{</span><span style=\"color: #008000; text-decoration-color: #008000\">'paravance-72.rennes.grid5000.fr'</span><span style=\"font-weight: bold\">}</span>\n",
       "</pre>\n"
      ],
      "text/plain": [
       "\u001b[1;34mFinished \u001b[0m\u001b[1;34m4\u001b[0m\u001b[1;34m tasks\u001b[0m \u001b[1;3m(\u001b[0m\u001b[3mapt,Delete the last version of the repo,clone repo,installing python libs\u001b[0m\u001b[1;3m)\u001b[0m \n",
       "on \u001b[1m{\u001b[0m\u001b[32m'paravance-72.rennes.grid5000.fr'\u001b[0m\u001b[1m}\u001b[0m\n"
      ]
     },
     "metadata": {},
     "output_type": "display_data"
    },
    {
     "data": {
      "text/html": [
       "<pre style=\"white-space:pre;overflow-x:auto;line-height:normal;font-family:Menlo,'DejaVu Sans Mono',consolas,'Courier New',monospace\"><span style=\"color: #00ff00; text-decoration-color: #00ff00\">─────────────────────────────────────────────────────────────────────────────────────────────</span>\n",
       "</pre>\n"
      ],
      "text/plain": [
       "\u001b[92m─────────────────────────────────────────────────────────────────────────────────────────────\u001b[0m\n"
      ]
     },
     "metadata": {},
     "output_type": "display_data"
    },
    {
     "name": "stdout",
     "output_type": "stream",
     "text": [
      "======= node 5 ========\n",
      "{'IP_ADDRESS': '172.16.96.72', 'graphe_infos': array([[-1.,  1., 10., 20., 20., 60.],\n",
      "       [-1., -1.,  8., 30., 20., 60.],\n",
      "       [10.,  8., -1., 30., 20., 50.],\n",
      "       [20., 30., -1., -1., 20., 31.],\n",
      "       [20., 20., 20., 20., -1., 60.],\n",
      "       [60., 60., 50., 31., 60., -1.]]), 'IPs_ADDRESS': ['172.16.96.20', '172.16.96.26', '172.16.96.30', '172.16.96.32', '172.16.96.44', '172.16.96.72'], 'infos': {0: {'latency': np.float64(60.0), 'id': 0, 'node_ip': '172.16.96.20', 'node_port': 8880}, 1: {'latency': np.float64(60.0), 'id': 1, 'node_ip': '172.16.96.26', 'node_port': 8881}, 2: {'latency': np.float64(50.0), 'id': 2, 'node_ip': '172.16.96.30', 'node_port': 8882}, 3: {'latency': np.float64(31.0), 'id': 3, 'node_ip': '172.16.96.32', 'node_port': 8883}, 4: {'latency': np.float64(60.0), 'id': 4, 'node_ip': '172.16.96.44', 'node_port': 8884}}}\n"
     ]
    }
   ],
   "source": [
    "if not config.execution_local:\n",
    "    for i, machine in enumerate(config.machines):\n",
    "\n",
    "        with config.enoslib.actions(roles=config.roles[machine[\"roles\"][0]]) as p:\n",
    "            #p.ensure_python()\n",
    "            p.apt(name=[\"git\",\"python3-pip\"], state=\"present\")\n",
    "            p.command(\n",
    "                task_name = \"Delete the last version of the repo\",\n",
    "                cmd = \"rm -rf /home/csimohammed/exp\"\n",
    "            )\n",
    "            p.command(\n",
    "                task_name=\"clone repo\",\n",
    "                cmd=\"git clone --single-branch --branch new_main https://github.com/cherifpy/traces-simulator.git /home/csimohammed/exp\"\n",
    "            )\n",
    "            p.command(\n",
    "                task_name = \"installing python libs\",\n",
    "                cmd = \"pip3 install pandas pylibmc numpy sockets PyYAML Flask pymemcache\"\n",
    "            )\n",
    "        print(f\"======= node {i} ========\")\n",
    "        \n",
    "        if i==(NB_NODES-1):\n",
    "\n",
    "            data = SendInfoToManager(i, CONFIG_GRAPHE,IPS_ADDRESS, REP_PORT)\n",
    "            print(data)\n",
    "            \"\"\"with config.enoslib.actions(roles=config.roles[machine[\"roles\"][0]]) as p:\n",
    "                p.command(\n",
    "                    task_name = \"Executing the code on a site\",\n",
    "                    cmd = f\"python3 /home/csimohammed/exp/cache-exp/replicaManager.py > /tmp/output{i}_and_errors.log 2>&1\",\n",
    "                    background=True\n",
    "                )\n",
    "            print(IPS_ADDRESS[i])\n",
    "            sendObject(data, IPS_ADDRESS[i])\"\"\"\n",
    "            \n",
    "\n",
    "        else: \n",
    "            data = InfosToSend(i,CONFIG_GRAPHE, IPS_ADDRESS,REP_PORT,config.storage_capacities[i])\n",
    "            with config.enoslib.actions(roles=config.roles[machine[\"roles\"][0]]) as p:\n",
    "                p.command(\n",
    "                    task_name = \"Executing the code on a site\",\n",
    "                    cmd = f\"python3 /home/csimohammed/exp/cache-exp/cacheManager.py > /tmp/output{i}_and_errors.log 2>&1\",\n",
    "                    background=True\n",
    "                )\n",
    "            print(data)\n",
    "            sendObject(data, IPS_ADDRESS[i])\n",
    "            \n",
    "        \n",
    "        #config.enoslib.ensure_python3(True,roles=config.roles[machine[\"roles\"][0]])\n",
    "        \n",
    "        infos_nodes.append({\"node_ip\":IPS_ADDRESS[i], \"node_port\":port_rep})\n",
    "        port_rep += 1\n"
   ]
  },
  {
   "cell_type": "code",
   "execution_count": 5,
   "metadata": {},
   "outputs": [],
   "source": [
    "#config.provider.destroy()"
   ]
  },
  {
   "cell_type": "code",
   "execution_count": null,
   "metadata": {},
   "outputs": [],
   "source": []
  }
 ],
 "metadata": {
  "kernelspec": {
   "display_name": "venv",
   "language": "python",
   "name": "python3"
  },
  "language_info": {
   "codemirror_mode": {
    "name": "ipython",
    "version": 3
   },
   "file_extension": ".py",
   "mimetype": "text/x-python",
   "name": "python",
   "nbconvert_exporter": "python",
   "pygments_lexer": "ipython3",
   "version": "3.12.4"
  }
 },
 "nbformat": 4,
 "nbformat_minor": 2
}
